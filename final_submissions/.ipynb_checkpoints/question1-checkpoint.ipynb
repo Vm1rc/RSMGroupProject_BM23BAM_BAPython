{
 "cells": [
  {
   "cell_type": "markdown",
   "id": "e4a06a5c",
   "metadata": {},
   "source": [
    "# 00_Explorative Data Analysis (Descriptives)"
   ]
  },
  {
   "cell_type": "markdown",
   "id": "5eae9c75-9db1-4943-a679-4b1fbd47b265",
   "metadata": {},
   "source": [
    "This notebook contains all relevant code for the Explorative Data Analysis (EDA) for question 1. \n",
    "Please note that the provided data consists of 4 .csv files:\n",
    "* organisations.csv\n",
    "* investments.csv\n",
    "* rounds.csv\n",
    "* aquisitions.csv\n",
    "\n",
    "The first step is the data cleaning and preparation, which is identical for both provided noteebooks. During this step new variables are created, changed, and external data sources are added. For more details please refer to the section 'Data Preparation' and the data description PDF 'Data Description Group3'. \n",
    "\n",
    "Please note that at the end of the data preparation the following data sets are created for EDA:\n",
    "* organisations_cleaned.csv\n",
    "* investments_cleaned.csv\n",
    "* rounds_cleaned.csv\n",
    "\n",
    "Additionally seperate data sets are created for the predictive modeling (question 2). These data sets are a merged data set consisting of the above mentioned EDA data sets and are optimized for the modeling (e.g. data structure, data types, dummy variables, etc.). During the process of merging around 30% of the observations in organisations_cleaned.csv are lost due to missing data. Therefore it was decied to use the more extensive data sets for EDA. Please refer to the presentation for more details regarding data sets. The data sets for the predictive modeling are:\n",
    "* Merge_Org_Round_Inv.csv (~ 30% loss compared to organisations_cleaned.csv)\n",
    "* Merge_Org_Round.csv (~ 0% loss compared to organisations_cleaned.csv)\n",
    "\n"
   ]
  },
  {
   "cell_type": "markdown",
   "id": "28d1d552-5247-4b7a-aadb-1bcee1647807",
   "metadata": {},
   "source": [
    "## Loading packages"
   ]
  },
  {
   "cell_type": "code",
   "execution_count": 1,
   "id": "c06f6d6a",
   "metadata": {},
   "outputs": [],
   "source": [
    "import numpy as np\n",
    "import pandas as pd\n",
    "import os\n",
    "import seaborn as sns\n",
    "import matplotlib.pyplot as plt\n",
    "import plotly\n",
    "import plotly.express as px\n",
    "\n",
    "# Configure view of data frames \n",
    "pd.set_option('display.max_columns', None)"
   ]
  },
  {
   "cell_type": "code",
   "execution_count": 2,
   "id": "5454face",
   "metadata": {},
   "outputs": [
    {
     "name": "stderr",
     "output_type": "stream",
     "text": [
      "/Users/nikoschmidt/opt/anaconda3/lib/python3.9/site-packages/IPython/core/interactiveshell.py:3444: DtypeWarning: Columns (0,1,2,3,4,5,6,7,8,9,10,11,12,13,14,15,16,17,18,20,21) have mixed types.Specify dtype option on import or set low_memory=False.\n",
      "  exec(code_obj, self.user_global_ns, self.user_ns)\n"
     ]
    }
   ],
   "source": [
    "# Derive path\n",
    "dirname = os.path.abspath(os.getcwd())\n",
    "\n",
    "# Original files\n",
    "acquisition = pd.read_csv(f\"{dirname[:-17]}/data/acquisitions.csv\")\n",
    "investments = pd.read_csv(f\"{dirname[:-17]}/data/investments.csv\")\n",
    "organisations = pd.read_csv(f\"{dirname[:-17]}/data/organisations.csv\")\n",
    "rounds = pd.read_csv(f\"{dirname[:-17]}/data/rounds.csv\")\n",
    "\n",
    "# External data\n",
    "PE = pd.read_csv(f\"{dirname[:-17]}/data/PE_list.csv\",index_col=0)\n",
    "anninflation = pd.read_csv(f\"{dirname[:-17]}/data/Inflation.csv\")\n",
    "realint = pd.read_csv(f\"{dirname[:-17]}/data/real_interest.csv\")\n",
    "gdpgrowth = pd.read_csv(f\"{dirname[:-17]}/data/gdpgrowth.csv\")"
   ]
  },
  {
   "cell_type": "markdown",
   "id": "acf0a6db",
   "metadata": {},
   "source": [
    "# Data Preparation"
   ]
  },
  {
   "cell_type": "markdown",
   "id": "489b9a55",
   "metadata": {},
   "source": [
    "## Data Preparation: Organisations"
   ]
  },
  {
   "cell_type": "code",
   "execution_count": 3,
   "id": "d9fa2dab",
   "metadata": {},
   "outputs": [],
   "source": [
    "# Drop elements not used\n",
    "organisations = organisations.drop([\"homepage_url\", \"category_list\"],axis=1)\n",
    "\n",
    "# Combining markets with rare observations but high fundings to High_funding_market\n",
    "organisations[\"market\"] = np.where(organisations[\"market\"].isin([\" B2B Express Delivery \", \" Cloud-Based Music \", \" Content Creators \", \" Custom Retail \", \" Development Platforms \", \" Film Production \", \" Food Processing \", \" Hospitals \", \" Natural Gas Uses \", \" Oil \", \" Oil and Gas \", \" Recreation \", \" Renewable Energies \", \" Trading \", \" Solar \", \" Renewable Energies \", \" TV Production \"]),\n",
    "        \"High_funding_market\",\n",
    "        organisations[\"market\"])\n",
    "\n",
    "# Replace markets with less than 100 observations by \" Other \"\n",
    "organisations[\"market\"] = np.where(organisations[\"market\"].isin(organisations[\"market\"].value_counts().loc[lambda x: x>=100].index), organisations[\"market\"], \" Other \")\n",
    "\n",
    "# Replace NaNs in state_code by Non_US\n",
    "organisations.loc[organisations[\"state_code\"].isna(),\"state_code\"] = \"Non_US\"\n",
    "\n",
    "# Change nan values to string \"No_status\"\n",
    "organisations[\"status\"] = np.where(organisations[\"status\"].isna(), \"No_status\", organisations[\"status\"])\n",
    "\n",
    "# Create new code column with USA state codes and country codes\n",
    "organisations[\"country_state_code\"] = np.where(organisations[\"country_code\"] == \"USA\", organisations[\"state_code\"], organisations[\"country_code\"])\n",
    "\n",
    "# Change variables to datatime\n",
    "for i in (\"founded_at\", \"first_funding_at\", \"last_funding_at\"):\n",
    "    organisations[i] = pd.to_datetime(organisations[i])\n",
    "\n",
    "# Create Time Delta between founding and first funding as well as first and last funding\n",
    "organisations[\"TDelta_1\"] = (organisations[\"first_funding_at\"] - organisations[\"founded_at\"]).dt.days.astype('int')\n",
    "organisations[\"TDelta_2\"] = (organisations[\"last_funding_at\"] - organisations[\"first_funding_at\"]).dt.days.astype('int')\n",
    "\n",
    "# Create Year and Month variables for founding, first funding and last funding\n",
    "for i in (\"founded_at\", \"first_funding_at\", \"last_funding_at\"):\n",
    "    organisations[f'{i}_year'] = pd.DatetimeIndex(organisations[i]).year\n",
    "    organisations[f'{i}_month'] = pd.DatetimeIndex(organisations[i]).month\n",
    "\n",
    "# Save the dataframe as csv\n",
    "#organisations.to_csv(\"organisations_cleaned.csv\")"
   ]
  },
  {
   "cell_type": "code",
   "execution_count": 4,
   "id": "ec83c4aa",
   "metadata": {
    "scrolled": true
   },
   "outputs": [
    {
     "data": {
      "text/html": [
       "<div><div id=ea028913-6024-4e92-a63a-3d34513ecdbf style=\"display:none; background-color:#9D6CFF; color:white; width:200px; height:30px; padding-left:5px; border-radius:4px; flex-direction:row; justify-content:space-around; align-items:center;\" onmouseover=\"this.style.backgroundColor='#BA9BF8'\" onmouseout=\"this.style.backgroundColor='#9D6CFF'\" onclick=\"window.commands?.execute('create-mitosheet-from-dataframe-output');\">See Full Dataframe in Mito</div> <script> if (window.commands.hasCommand('create-mitosheet-from-dataframe-output')) document.getElementById('ea028913-6024-4e92-a63a-3d34513ecdbf').style.display = 'flex' </script> <table border=\"1\" class=\"dataframe\">\n",
       "  <thead>\n",
       "    <tr style=\"text-align: right;\">\n",
       "      <th></th>\n",
       "      <th>permalink</th>\n",
       "      <th>name</th>\n",
       "      <th>market</th>\n",
       "      <th>funding_total_usd</th>\n",
       "      <th>status</th>\n",
       "      <th>country_code</th>\n",
       "      <th>state_code</th>\n",
       "      <th>region</th>\n",
       "      <th>city</th>\n",
       "      <th>funding_rounds</th>\n",
       "      <th>founded_at</th>\n",
       "      <th>first_funding_at</th>\n",
       "      <th>last_funding_at</th>\n",
       "      <th>country_state_code</th>\n",
       "      <th>TDelta_1</th>\n",
       "      <th>TDelta_2</th>\n",
       "      <th>founded_at_year</th>\n",
       "      <th>founded_at_month</th>\n",
       "      <th>first_funding_at_year</th>\n",
       "      <th>first_funding_at_month</th>\n",
       "      <th>last_funding_at_year</th>\n",
       "      <th>last_funding_at_month</th>\n",
       "    </tr>\n",
       "  </thead>\n",
       "  <tbody>\n",
       "    <tr>\n",
       "      <th>0</th>\n",
       "      <td>/organization/waywire</td>\n",
       "      <td>#waywire</td>\n",
       "      <td>News</td>\n",
       "      <td>1750000.0</td>\n",
       "      <td>acquired</td>\n",
       "      <td>USA</td>\n",
       "      <td>NY</td>\n",
       "      <td>New York City</td>\n",
       "      <td>New York</td>\n",
       "      <td>1</td>\n",
       "      <td>2012-06-01</td>\n",
       "      <td>2012-06-30</td>\n",
       "      <td>2012-06-30</td>\n",
       "      <td>NY</td>\n",
       "      <td>29</td>\n",
       "      <td>0</td>\n",
       "      <td>2012</td>\n",
       "      <td>6</td>\n",
       "      <td>2012</td>\n",
       "      <td>6</td>\n",
       "      <td>2012</td>\n",
       "      <td>6</td>\n",
       "    </tr>\n",
       "    <tr>\n",
       "      <th>1</th>\n",
       "      <td>/organization/rock-your-paper</td>\n",
       "      <td>'Rock' Your Paper</td>\n",
       "      <td>Other</td>\n",
       "      <td>40000.0</td>\n",
       "      <td>operating</td>\n",
       "      <td>EST</td>\n",
       "      <td>Non_US</td>\n",
       "      <td>Tallinn</td>\n",
       "      <td>Tallinn</td>\n",
       "      <td>1</td>\n",
       "      <td>2012-10-26</td>\n",
       "      <td>2012-08-09</td>\n",
       "      <td>2012-08-09</td>\n",
       "      <td>EST</td>\n",
       "      <td>-78</td>\n",
       "      <td>0</td>\n",
       "      <td>2012</td>\n",
       "      <td>10</td>\n",
       "      <td>2012</td>\n",
       "      <td>8</td>\n",
       "      <td>2012</td>\n",
       "      <td>8</td>\n",
       "    </tr>\n",
       "    <tr>\n",
       "      <th>2</th>\n",
       "      <td>/organization/in-touch-network</td>\n",
       "      <td>(In)Touch Network</td>\n",
       "      <td>Other</td>\n",
       "      <td>1500000.0</td>\n",
       "      <td>operating</td>\n",
       "      <td>GBR</td>\n",
       "      <td>Non_US</td>\n",
       "      <td>London</td>\n",
       "      <td>London</td>\n",
       "      <td>1</td>\n",
       "      <td>2011-04-01</td>\n",
       "      <td>2011-04-01</td>\n",
       "      <td>2011-04-01</td>\n",
       "      <td>GBR</td>\n",
       "      <td>0</td>\n",
       "      <td>0</td>\n",
       "      <td>2011</td>\n",
       "      <td>4</td>\n",
       "      <td>2011</td>\n",
       "      <td>4</td>\n",
       "      <td>2011</td>\n",
       "      <td>4</td>\n",
       "    </tr>\n",
       "    <tr>\n",
       "      <th>3</th>\n",
       "      <td>/organization/r-ranch-and-mine</td>\n",
       "      <td>-R- Ranch and Mine</td>\n",
       "      <td>Other</td>\n",
       "      <td>60000.0</td>\n",
       "      <td>operating</td>\n",
       "      <td>USA</td>\n",
       "      <td>TX</td>\n",
       "      <td>Dallas</td>\n",
       "      <td>Fort Worth</td>\n",
       "      <td>2</td>\n",
       "      <td>2014-01-01</td>\n",
       "      <td>2014-08-17</td>\n",
       "      <td>2014-09-26</td>\n",
       "      <td>TX</td>\n",
       "      <td>228</td>\n",
       "      <td>40</td>\n",
       "      <td>2014</td>\n",
       "      <td>1</td>\n",
       "      <td>2014</td>\n",
       "      <td>8</td>\n",
       "      <td>2014</td>\n",
       "      <td>9</td>\n",
       "    </tr>\n",
       "    <tr>\n",
       "      <th>4</th>\n",
       "      <td>/organization/club-domains</td>\n",
       "      <td>.Club Domains</td>\n",
       "      <td>Software</td>\n",
       "      <td>7000000.0</td>\n",
       "      <td>No_status</td>\n",
       "      <td>USA</td>\n",
       "      <td>FL</td>\n",
       "      <td>Ft. Lauderdale</td>\n",
       "      <td>Oakland Park</td>\n",
       "      <td>1</td>\n",
       "      <td>2011-10-10</td>\n",
       "      <td>2013-05-31</td>\n",
       "      <td>2013-05-31</td>\n",
       "      <td>FL</td>\n",
       "      <td>599</td>\n",
       "      <td>0</td>\n",
       "      <td>2011</td>\n",
       "      <td>10</td>\n",
       "      <td>2013</td>\n",
       "      <td>5</td>\n",
       "      <td>2013</td>\n",
       "      <td>5</td>\n",
       "    </tr>\n",
       "    <tr>\n",
       "      <th>...</th>\n",
       "      <td>...</td>\n",
       "      <td>...</td>\n",
       "      <td>...</td>\n",
       "      <td>...</td>\n",
       "      <td>...</td>\n",
       "      <td>...</td>\n",
       "      <td>...</td>\n",
       "      <td>...</td>\n",
       "      <td>...</td>\n",
       "      <td>...</td>\n",
       "      <td>...</td>\n",
       "      <td>...</td>\n",
       "      <td>...</td>\n",
       "      <td>...</td>\n",
       "      <td>...</td>\n",
       "      <td>...</td>\n",
       "      <td>...</td>\n",
       "      <td>...</td>\n",
       "      <td>...</td>\n",
       "      <td>...</td>\n",
       "      <td>...</td>\n",
       "      <td>...</td>\n",
       "    </tr>\n",
       "    <tr>\n",
       "      <th>28724</th>\n",
       "      <td>/organization/zyraz-technology</td>\n",
       "      <td>Zyraz Technology</td>\n",
       "      <td>Biotechnology</td>\n",
       "      <td>15419877.0</td>\n",
       "      <td>closed</td>\n",
       "      <td>MYS</td>\n",
       "      <td>Non_US</td>\n",
       "      <td>MYS - Other</td>\n",
       "      <td>Damansara New Village</td>\n",
       "      <td>4</td>\n",
       "      <td>1994-01-01</td>\n",
       "      <td>2008-01-01</td>\n",
       "      <td>2013-02-15</td>\n",
       "      <td>MYS</td>\n",
       "      <td>5113</td>\n",
       "      <td>1872</td>\n",
       "      <td>1994</td>\n",
       "      <td>1</td>\n",
       "      <td>2008</td>\n",
       "      <td>1</td>\n",
       "      <td>2013</td>\n",
       "      <td>2</td>\n",
       "    </tr>\n",
       "    <tr>\n",
       "      <th>28725</th>\n",
       "      <td>/organization/zytoprotec</td>\n",
       "      <td>Zytoprotec</td>\n",
       "      <td>Biotechnology</td>\n",
       "      <td>2686600.0</td>\n",
       "      <td>operating</td>\n",
       "      <td>AUT</td>\n",
       "      <td>Non_US</td>\n",
       "      <td>Vienna</td>\n",
       "      <td>Gerasdorf Bei Wien</td>\n",
       "      <td>1</td>\n",
       "      <td>2007-01-01</td>\n",
       "      <td>2013-01-29</td>\n",
       "      <td>2013-01-29</td>\n",
       "      <td>AUT</td>\n",
       "      <td>2220</td>\n",
       "      <td>0</td>\n",
       "      <td>2007</td>\n",
       "      <td>1</td>\n",
       "      <td>2013</td>\n",
       "      <td>1</td>\n",
       "      <td>2013</td>\n",
       "      <td>1</td>\n",
       "    </tr>\n",
       "    <tr>\n",
       "      <th>28726</th>\n",
       "      <td>/organization/zzish</td>\n",
       "      <td>Zzish</td>\n",
       "      <td>Education</td>\n",
       "      <td>320000.0</td>\n",
       "      <td>operating</td>\n",
       "      <td>GBR</td>\n",
       "      <td>Non_US</td>\n",
       "      <td>London</td>\n",
       "      <td>London</td>\n",
       "      <td>1</td>\n",
       "      <td>2013-01-28</td>\n",
       "      <td>2014-03-24</td>\n",
       "      <td>2014-03-24</td>\n",
       "      <td>GBR</td>\n",
       "      <td>420</td>\n",
       "      <td>0</td>\n",
       "      <td>2013</td>\n",
       "      <td>1</td>\n",
       "      <td>2014</td>\n",
       "      <td>3</td>\n",
       "      <td>2014</td>\n",
       "      <td>3</td>\n",
       "    </tr>\n",
       "    <tr>\n",
       "      <th>28727</th>\n",
       "      <td>/organization/zzzzapp-com</td>\n",
       "      <td>Zzzzapp Wireless ltd.</td>\n",
       "      <td>Other</td>\n",
       "      <td>97398.0</td>\n",
       "      <td>operating</td>\n",
       "      <td>HRV</td>\n",
       "      <td>Non_US</td>\n",
       "      <td>Split</td>\n",
       "      <td>Split</td>\n",
       "      <td>5</td>\n",
       "      <td>2012-05-13</td>\n",
       "      <td>2011-11-01</td>\n",
       "      <td>2014-09-10</td>\n",
       "      <td>HRV</td>\n",
       "      <td>-194</td>\n",
       "      <td>1044</td>\n",
       "      <td>2012</td>\n",
       "      <td>5</td>\n",
       "      <td>2011</td>\n",
       "      <td>11</td>\n",
       "      <td>2014</td>\n",
       "      <td>9</td>\n",
       "    </tr>\n",
       "    <tr>\n",
       "      <th>28728</th>\n",
       "      <td>/organization/x</td>\n",
       "      <td>[x+1]</td>\n",
       "      <td>Enterprise Software</td>\n",
       "      <td>45000000.0</td>\n",
       "      <td>operating</td>\n",
       "      <td>USA</td>\n",
       "      <td>NY</td>\n",
       "      <td>New York City</td>\n",
       "      <td>New York</td>\n",
       "      <td>4</td>\n",
       "      <td>1999-01-01</td>\n",
       "      <td>2008-06-01</td>\n",
       "      <td>2013-04-04</td>\n",
       "      <td>NY</td>\n",
       "      <td>3439</td>\n",
       "      <td>1768</td>\n",
       "      <td>1999</td>\n",
       "      <td>1</td>\n",
       "      <td>2008</td>\n",
       "      <td>6</td>\n",
       "      <td>2013</td>\n",
       "      <td>4</td>\n",
       "    </tr>\n",
       "  </tbody>\n",
       "</table></div>"
      ],
      "text/plain": [
       "                            permalink                   name  \\\n",
       "0               /organization/waywire               #waywire   \n",
       "1       /organization/rock-your-paper      'Rock' Your Paper   \n",
       "2      /organization/in-touch-network      (In)Touch Network   \n",
       "3      /organization/r-ranch-and-mine     -R- Ranch and Mine   \n",
       "4          /organization/club-domains          .Club Domains   \n",
       "...                               ...                    ...   \n",
       "28724  /organization/zyraz-technology       Zyraz Technology   \n",
       "28725        /organization/zytoprotec             Zytoprotec   \n",
       "28726             /organization/zzish                  Zzish   \n",
       "28727       /organization/zzzzapp-com  Zzzzapp Wireless ltd.   \n",
       "28728                 /organization/x                  [x+1]   \n",
       "\n",
       "                      market  funding_total_usd     status country_code  \\\n",
       "0                      News           1750000.0   acquired          USA   \n",
       "1                     Other             40000.0  operating          EST   \n",
       "2                     Other           1500000.0  operating          GBR   \n",
       "3                     Other             60000.0  operating          USA   \n",
       "4                  Software           7000000.0  No_status          USA   \n",
       "...                      ...                ...        ...          ...   \n",
       "28724         Biotechnology          15419877.0     closed          MYS   \n",
       "28725         Biotechnology           2686600.0  operating          AUT   \n",
       "28726             Education            320000.0  operating          GBR   \n",
       "28727                 Other             97398.0  operating          HRV   \n",
       "28728   Enterprise Software          45000000.0  operating          USA   \n",
       "\n",
       "      state_code          region                   city  funding_rounds  \\\n",
       "0             NY   New York City               New York               1   \n",
       "1         Non_US         Tallinn                Tallinn               1   \n",
       "2         Non_US          London                 London               1   \n",
       "3             TX          Dallas             Fort Worth               2   \n",
       "4             FL  Ft. Lauderdale           Oakland Park               1   \n",
       "...          ...             ...                    ...             ...   \n",
       "28724     Non_US     MYS - Other  Damansara New Village               4   \n",
       "28725     Non_US          Vienna     Gerasdorf Bei Wien               1   \n",
       "28726     Non_US          London                 London               1   \n",
       "28727     Non_US           Split                  Split               5   \n",
       "28728         NY   New York City               New York               4   \n",
       "\n",
       "      founded_at first_funding_at last_funding_at country_state_code  \\\n",
       "0     2012-06-01       2012-06-30      2012-06-30                 NY   \n",
       "1     2012-10-26       2012-08-09      2012-08-09                EST   \n",
       "2     2011-04-01       2011-04-01      2011-04-01                GBR   \n",
       "3     2014-01-01       2014-08-17      2014-09-26                 TX   \n",
       "4     2011-10-10       2013-05-31      2013-05-31                 FL   \n",
       "...          ...              ...             ...                ...   \n",
       "28724 1994-01-01       2008-01-01      2013-02-15                MYS   \n",
       "28725 2007-01-01       2013-01-29      2013-01-29                AUT   \n",
       "28726 2013-01-28       2014-03-24      2014-03-24                GBR   \n",
       "28727 2012-05-13       2011-11-01      2014-09-10                HRV   \n",
       "28728 1999-01-01       2008-06-01      2013-04-04                 NY   \n",
       "\n",
       "       TDelta_1  TDelta_2  founded_at_year  founded_at_month  \\\n",
       "0            29         0             2012                 6   \n",
       "1           -78         0             2012                10   \n",
       "2             0         0             2011                 4   \n",
       "3           228        40             2014                 1   \n",
       "4           599         0             2011                10   \n",
       "...         ...       ...              ...               ...   \n",
       "28724      5113      1872             1994                 1   \n",
       "28725      2220         0             2007                 1   \n",
       "28726       420         0             2013                 1   \n",
       "28727      -194      1044             2012                 5   \n",
       "28728      3439      1768             1999                 1   \n",
       "\n",
       "       first_funding_at_year  first_funding_at_month  last_funding_at_year  \\\n",
       "0                       2012                       6                  2012   \n",
       "1                       2012                       8                  2012   \n",
       "2                       2011                       4                  2011   \n",
       "3                       2014                       8                  2014   \n",
       "4                       2013                       5                  2013   \n",
       "...                      ...                     ...                   ...   \n",
       "28724                   2008                       1                  2013   \n",
       "28725                   2013                       1                  2013   \n",
       "28726                   2014                       3                  2014   \n",
       "28727                   2011                      11                  2014   \n",
       "28728                   2008                       6                  2013   \n",
       "\n",
       "       last_funding_at_month  \n",
       "0                          6  \n",
       "1                          8  \n",
       "2                          4  \n",
       "3                          9  \n",
       "4                          5  \n",
       "...                      ...  \n",
       "28724                      2  \n",
       "28725                      1  \n",
       "28726                      3  \n",
       "28727                      9  \n",
       "28728                      4  \n",
       "\n",
       "[28729 rows x 22 columns]"
      ]
     },
     "execution_count": 4,
     "metadata": {},
     "output_type": "execute_result"
    }
   ],
   "source": [
    "# Final dataframe\n",
    "organisations"
   ]
  },
  {
   "cell_type": "markdown",
   "id": "86bbbb90",
   "metadata": {},
   "source": [
    "## Data Preparation: Rounds"
   ]
  },
  {
   "cell_type": "code",
   "execution_count": 5,
   "id": "73cbaaec",
   "metadata": {},
   "outputs": [],
   "source": [
    "# Drop meaningless column\n",
    "rounds = rounds.drop(\"Unnamed: 16\", axis=1)\n",
    "\n",
    "# Replacing all funding_round_codes for non Ventures Capital with nan\n",
    "rounds.loc[(~rounds[\"funding_round_code\"].isna()) & (rounds[\"funding_round_type\"] != \"venture\"), \"funding_round_code\"] = float(\"nan\")\n",
    "\n",
    "# Grouping funding round codes E to H togehter due to limited observations (E+)\n",
    "rounds[\"funding_round_code\"] = np.where(rounds[\"funding_round_code\"].isin(['E', 'F', 'G', 'H']), \"E+\", rounds[\"funding_round_code\"])\n",
    "\n",
    "# Replacing post_ipo_debt with debt_financing and secondary_market with private_equity in column funding_round_type_code due to lessor observations\n",
    "rounds[\"funding_round_type_code\"] = np.where(~rounds[\"funding_round_code\"].isna(), rounds[\"funding_round_type\"]+\"_\"+rounds[\"funding_round_code\"], rounds[\"funding_round_type\"])\n",
    "rounds[\"funding_round_type_code\"] = np.where(rounds[\"funding_round_type_code\"] == \"post_ipo_debt\", \"debt_financing\", rounds[\"funding_round_type_code\"])\n",
    "rounds[\"funding_round_type_code\"] = np.where(rounds[\"funding_round_type_code\"] == \"secondary_market\", \"private_equity\", rounds[\"funding_round_type_code\"])\n",
    "\n",
    "# Changing funded_at to datetime and create the average delta in between fundings\n",
    "rounds[\"funded_at\"] = pd.to_datetime(rounds[\"funded_at\"], errors='coerce')\n",
    "rounds.loc[rounds[\"funded_at\"].isna(),\"funded_at\"] = pd.to_datetime(1, unit='D', origin=pd.Timestamp('1900-01-01'))\n",
    "rounds[\"Fund_avgDelta\"] = rounds.groupby(\"company_permalink\")[\"funded_at\"].transform(lambda x: ((x.max() - x.min()).days / x.count()))\n",
    "\n",
    "# Dropping the test case\n",
    "rounds = rounds[~rounds[\"company_name\"].isin([\"new test company\", \"test company\"])]"
   ]
  },
  {
   "cell_type": "code",
   "execution_count": 6,
   "id": "a71bb60a",
   "metadata": {
    "scrolled": true
   },
   "outputs": [
    {
     "data": {
      "text/html": [
       "<div><div id=df3ce4ef-1b5f-47ba-a2b1-0ad2e7c3584c style=\"display:none; background-color:#9D6CFF; color:white; width:200px; height:30px; padding-left:5px; border-radius:4px; flex-direction:row; justify-content:space-around; align-items:center;\" onmouseover=\"this.style.backgroundColor='#BA9BF8'\" onmouseout=\"this.style.backgroundColor='#9D6CFF'\" onclick=\"window.commands?.execute('create-mitosheet-from-dataframe-output');\">See Full Dataframe in Mito</div> <script> if (window.commands.hasCommand('create-mitosheet-from-dataframe-output')) document.getElementById('df3ce4ef-1b5f-47ba-a2b1-0ad2e7c3584c').style.display = 'flex' </script> <table border=\"1\" class=\"dataframe\">\n",
       "  <thead>\n",
       "    <tr style=\"text-align: right;\">\n",
       "      <th></th>\n",
       "      <th>company_permalink</th>\n",
       "      <th>company_name</th>\n",
       "      <th>company_category_list</th>\n",
       "      <th>company_market</th>\n",
       "      <th>company_country_code</th>\n",
       "      <th>company_state_code</th>\n",
       "      <th>company_region</th>\n",
       "      <th>company_city</th>\n",
       "      <th>funding_round_permalink</th>\n",
       "      <th>funding_round_type</th>\n",
       "      <th>funding_round_code</th>\n",
       "      <th>funded_at</th>\n",
       "      <th>funded_month</th>\n",
       "      <th>funded_quarter</th>\n",
       "      <th>funded_year</th>\n",
       "      <th>raised_amount_usd</th>\n",
       "      <th>funding_round_type_code</th>\n",
       "      <th>Fund_avgDelta</th>\n",
       "    </tr>\n",
       "  </thead>\n",
       "  <tbody>\n",
       "    <tr>\n",
       "      <th>733</th>\n",
       "      <td>/organization/99tests</td>\n",
       "      <td>99tests</td>\n",
       "      <td>|Software|</td>\n",
       "      <td>Software</td>\n",
       "      <td>IND</td>\n",
       "      <td>NaN</td>\n",
       "      <td>Bangalore</td>\n",
       "      <td>Bangalore</td>\n",
       "      <td>/funding-round/9d0b3e33c132d14843c491ce508e3833</td>\n",
       "      <td>seed</td>\n",
       "      <td>NaN</td>\n",
       "      <td>2010-12-01</td>\n",
       "      <td>2010-12</td>\n",
       "      <td>2010-Q4</td>\n",
       "      <td>2010.0</td>\n",
       "      <td>10,000</td>\n",
       "      <td>seed</td>\n",
       "      <td>321.333333</td>\n",
       "    </tr>\n",
       "    <tr>\n",
       "      <th>734</th>\n",
       "      <td>/organization/99tests</td>\n",
       "      <td>99tests</td>\n",
       "      <td>|Software|</td>\n",
       "      <td>Software</td>\n",
       "      <td>IND</td>\n",
       "      <td>NaN</td>\n",
       "      <td>Bangalore</td>\n",
       "      <td>Bangalore</td>\n",
       "      <td>/funding-round/e5b56c6b6db6d3f25deec865ec27c8fe</td>\n",
       "      <td>angel</td>\n",
       "      <td>NaN</td>\n",
       "      <td>2013-07-22</td>\n",
       "      <td>2013-07</td>\n",
       "      <td>2013-Q3</td>\n",
       "      <td>2013.0</td>\n",
       "      <td>100,000</td>\n",
       "      <td>angel</td>\n",
       "      <td>321.333333</td>\n",
       "    </tr>\n",
       "    <tr>\n",
       "      <th>735</th>\n",
       "      <td>/organization/99tests</td>\n",
       "      <td>99tests</td>\n",
       "      <td>|Software|</td>\n",
       "      <td>Software</td>\n",
       "      <td>IND</td>\n",
       "      <td>NaN</td>\n",
       "      <td>Bangalore</td>\n",
       "      <td>Bangalore</td>\n",
       "      <td>/funding-round/52b65967d8444f09aa7ee5aa30ffa75b</td>\n",
       "      <td>angel</td>\n",
       "      <td>NaN</td>\n",
       "      <td>2013-07-22</td>\n",
       "      <td>2013-07</td>\n",
       "      <td>2013-Q3</td>\n",
       "      <td>2013.0</td>\n",
       "      <td>100,000</td>\n",
       "      <td>angel</td>\n",
       "      <td>321.333333</td>\n",
       "    </tr>\n",
       "    <tr>\n",
       "      <th>2358</th>\n",
       "      <td>/organization/aehr-test-systems</td>\n",
       "      <td>Aehr Test Systems</td>\n",
       "      <td>|Hardware + Software|</td>\n",
       "      <td>Hardware + Software</td>\n",
       "      <td>USA</td>\n",
       "      <td>CA</td>\n",
       "      <td>SF Bay Area</td>\n",
       "      <td>Fremont</td>\n",
       "      <td>/funding-round/dd07cd4ce70380595c0d0e6bd8075bce</td>\n",
       "      <td>seed</td>\n",
       "      <td>NaN</td>\n",
       "      <td>2013-03-28</td>\n",
       "      <td>2013-03</td>\n",
       "      <td>2013-Q1</td>\n",
       "      <td>2013.0</td>\n",
       "      <td>1,158,000</td>\n",
       "      <td>seed</td>\n",
       "      <td>5026.000000</td>\n",
       "    </tr>\n",
       "    <tr>\n",
       "      <th>2359</th>\n",
       "      <td>/organization/aehr-test-systems</td>\n",
       "      <td>Aehr Test Systems</td>\n",
       "      <td>|Hardware + Software|</td>\n",
       "      <td>Hardware + Software</td>\n",
       "      <td>USA</td>\n",
       "      <td>CA</td>\n",
       "      <td>SF Bay Area</td>\n",
       "      <td>Fremont</td>\n",
       "      <td>/funding-round/3b02cf325be61412c2af1eb545f4d568</td>\n",
       "      <td>undisclosed</td>\n",
       "      <td>NaN</td>\n",
       "      <td>1985-09-19</td>\n",
       "      <td>1985-09</td>\n",
       "      <td>1985-Q3</td>\n",
       "      <td>1985.0</td>\n",
       "      <td>NaN</td>\n",
       "      <td>undisclosed</td>\n",
       "      <td>5026.000000</td>\n",
       "    </tr>\n",
       "    <tr>\n",
       "      <th>...</th>\n",
       "      <td>...</td>\n",
       "      <td>...</td>\n",
       "      <td>...</td>\n",
       "      <td>...</td>\n",
       "      <td>...</td>\n",
       "      <td>...</td>\n",
       "      <td>...</td>\n",
       "      <td>...</td>\n",
       "      <td>...</td>\n",
       "      <td>...</td>\n",
       "      <td>...</td>\n",
       "      <td>...</td>\n",
       "      <td>...</td>\n",
       "      <td>...</td>\n",
       "      <td>...</td>\n",
       "      <td>...</td>\n",
       "      <td>...</td>\n",
       "      <td>...</td>\n",
       "    </tr>\n",
       "    <tr>\n",
       "      <th>76903</th>\n",
       "      <td>/organization/utest</td>\n",
       "      <td>uTest</td>\n",
       "      <td>|Testing|Software|</td>\n",
       "      <td>Testing</td>\n",
       "      <td>USA</td>\n",
       "      <td>MA</td>\n",
       "      <td>Boston</td>\n",
       "      <td>Framingham</td>\n",
       "      <td>/funding-round/a7011f4222e180c49654b8836e4d8820</td>\n",
       "      <td>venture</td>\n",
       "      <td>C</td>\n",
       "      <td>2010-09-13</td>\n",
       "      <td>2010-09</td>\n",
       "      <td>2010-Q3</td>\n",
       "      <td>2010.0</td>\n",
       "      <td>13,000,000</td>\n",
       "      <td>venture_C</td>\n",
       "      <td>489.166667</td>\n",
       "    </tr>\n",
       "    <tr>\n",
       "      <th>76904</th>\n",
       "      <td>/organization/utest</td>\n",
       "      <td>uTest</td>\n",
       "      <td>|Testing|Software|</td>\n",
       "      <td>Testing</td>\n",
       "      <td>USA</td>\n",
       "      <td>MA</td>\n",
       "      <td>Boston</td>\n",
       "      <td>Framingham</td>\n",
       "      <td>/funding-round/559a0fa1950871e4c221c92ac3bb95e2</td>\n",
       "      <td>venture</td>\n",
       "      <td>A</td>\n",
       "      <td>2007-10-01</td>\n",
       "      <td>2007-10</td>\n",
       "      <td>2007-Q4</td>\n",
       "      <td>2007.0</td>\n",
       "      <td>2,300,000</td>\n",
       "      <td>venture_A</td>\n",
       "      <td>489.166667</td>\n",
       "    </tr>\n",
       "    <tr>\n",
       "      <th>76905</th>\n",
       "      <td>/organization/utest</td>\n",
       "      <td>uTest</td>\n",
       "      <td>|Testing|Software|</td>\n",
       "      <td>Testing</td>\n",
       "      <td>USA</td>\n",
       "      <td>MA</td>\n",
       "      <td>Boston</td>\n",
       "      <td>Framingham</td>\n",
       "      <td>/funding-round/09895489532b09fb5a9cd51a39d81249</td>\n",
       "      <td>seed</td>\n",
       "      <td>NaN</td>\n",
       "      <td>2006-01-01</td>\n",
       "      <td>2006-01</td>\n",
       "      <td>2006-Q1</td>\n",
       "      <td>2006.0</td>\n",
       "      <td>500,000</td>\n",
       "      <td>seed</td>\n",
       "      <td>489.166667</td>\n",
       "    </tr>\n",
       "    <tr>\n",
       "      <th>76906</th>\n",
       "      <td>/organization/utest</td>\n",
       "      <td>uTest</td>\n",
       "      <td>|Testing|Software|</td>\n",
       "      <td>Testing</td>\n",
       "      <td>USA</td>\n",
       "      <td>MA</td>\n",
       "      <td>Boston</td>\n",
       "      <td>Framingham</td>\n",
       "      <td>/funding-round/61898cffcfd3de4acc9a3ed633c009c3</td>\n",
       "      <td>venture</td>\n",
       "      <td>D</td>\n",
       "      <td>2011-12-05</td>\n",
       "      <td>2011-12</td>\n",
       "      <td>2011-Q4</td>\n",
       "      <td>2011.0</td>\n",
       "      <td>17,000,000</td>\n",
       "      <td>venture_D</td>\n",
       "      <td>489.166667</td>\n",
       "    </tr>\n",
       "    <tr>\n",
       "      <th>76907</th>\n",
       "      <td>/organization/utest</td>\n",
       "      <td>uTest</td>\n",
       "      <td>|Testing|Software|</td>\n",
       "      <td>Testing</td>\n",
       "      <td>USA</td>\n",
       "      <td>MA</td>\n",
       "      <td>Boston</td>\n",
       "      <td>Framingham</td>\n",
       "      <td>/funding-round/fa26fe604b49bd7e19fb791b700d64f9</td>\n",
       "      <td>venture</td>\n",
       "      <td>B</td>\n",
       "      <td>2008-12-01</td>\n",
       "      <td>2008-12</td>\n",
       "      <td>2008-Q4</td>\n",
       "      <td>2008.0</td>\n",
       "      <td>5,000,000</td>\n",
       "      <td>venture_B</td>\n",
       "      <td>489.166667</td>\n",
       "    </tr>\n",
       "  </tbody>\n",
       "</table></div>"
      ],
      "text/plain": [
       "                     company_permalink       company_name  \\\n",
       "733              /organization/99tests            99tests   \n",
       "734              /organization/99tests            99tests   \n",
       "735              /organization/99tests            99tests   \n",
       "2358   /organization/aehr-test-systems  Aehr Test Systems   \n",
       "2359   /organization/aehr-test-systems  Aehr Test Systems   \n",
       "...                                ...                ...   \n",
       "76903              /organization/utest              uTest   \n",
       "76904              /organization/utest              uTest   \n",
       "76905              /organization/utest              uTest   \n",
       "76906              /organization/utest              uTest   \n",
       "76907              /organization/utest              uTest   \n",
       "\n",
       "       company_category_list       company_market company_country_code  \\\n",
       "733               |Software|             Software                  IND   \n",
       "734               |Software|             Software                  IND   \n",
       "735               |Software|             Software                  IND   \n",
       "2358   |Hardware + Software|  Hardware + Software                  USA   \n",
       "2359   |Hardware + Software|  Hardware + Software                  USA   \n",
       "...                      ...                  ...                  ...   \n",
       "76903     |Testing|Software|              Testing                  USA   \n",
       "76904     |Testing|Software|              Testing                  USA   \n",
       "76905     |Testing|Software|              Testing                  USA   \n",
       "76906     |Testing|Software|              Testing                  USA   \n",
       "76907     |Testing|Software|              Testing                  USA   \n",
       "\n",
       "      company_state_code company_region company_city  \\\n",
       "733                  NaN      Bangalore    Bangalore   \n",
       "734                  NaN      Bangalore    Bangalore   \n",
       "735                  NaN      Bangalore    Bangalore   \n",
       "2358                  CA    SF Bay Area      Fremont   \n",
       "2359                  CA    SF Bay Area      Fremont   \n",
       "...                  ...            ...          ...   \n",
       "76903                 MA         Boston   Framingham   \n",
       "76904                 MA         Boston   Framingham   \n",
       "76905                 MA         Boston   Framingham   \n",
       "76906                 MA         Boston   Framingham   \n",
       "76907                 MA         Boston   Framingham   \n",
       "\n",
       "                               funding_round_permalink funding_round_type  \\\n",
       "733    /funding-round/9d0b3e33c132d14843c491ce508e3833               seed   \n",
       "734    /funding-round/e5b56c6b6db6d3f25deec865ec27c8fe              angel   \n",
       "735    /funding-round/52b65967d8444f09aa7ee5aa30ffa75b              angel   \n",
       "2358   /funding-round/dd07cd4ce70380595c0d0e6bd8075bce               seed   \n",
       "2359   /funding-round/3b02cf325be61412c2af1eb545f4d568        undisclosed   \n",
       "...                                                ...                ...   \n",
       "76903  /funding-round/a7011f4222e180c49654b8836e4d8820            venture   \n",
       "76904  /funding-round/559a0fa1950871e4c221c92ac3bb95e2            venture   \n",
       "76905  /funding-round/09895489532b09fb5a9cd51a39d81249               seed   \n",
       "76906  /funding-round/61898cffcfd3de4acc9a3ed633c009c3            venture   \n",
       "76907  /funding-round/fa26fe604b49bd7e19fb791b700d64f9            venture   \n",
       "\n",
       "      funding_round_code  funded_at funded_month  funded_quarter   \\\n",
       "733                  NaN 2010-12-01      2010-12         2010-Q4    \n",
       "734                  NaN 2013-07-22      2013-07         2013-Q3    \n",
       "735                  NaN 2013-07-22      2013-07         2013-Q3    \n",
       "2358                 NaN 2013-03-28      2013-03         2013-Q1    \n",
       "2359                 NaN 1985-09-19      1985-09         1985-Q3    \n",
       "...                  ...        ...          ...              ...   \n",
       "76903                  C 2010-09-13      2010-09         2010-Q3    \n",
       "76904                  A 2007-10-01      2007-10         2007-Q4    \n",
       "76905                NaN 2006-01-01      2006-01         2006-Q1    \n",
       "76906                  D 2011-12-05      2011-12         2011-Q4    \n",
       "76907                  B 2008-12-01      2008-12         2008-Q4    \n",
       "\n",
       "       funded_year  raised_amount_usd  funding_round_type_code  Fund_avgDelta  \n",
       "733         2010.0             10,000                     seed     321.333333  \n",
       "734         2013.0            100,000                    angel     321.333333  \n",
       "735         2013.0            100,000                    angel     321.333333  \n",
       "2358        2013.0          1,158,000                     seed    5026.000000  \n",
       "2359        1985.0                 NaN             undisclosed    5026.000000  \n",
       "...            ...                 ...                     ...            ...  \n",
       "76903       2010.0         13,000,000                venture_C     489.166667  \n",
       "76904       2007.0          2,300,000                venture_A     489.166667  \n",
       "76905       2006.0            500,000                     seed     489.166667  \n",
       "76906       2011.0         17,000,000                venture_D     489.166667  \n",
       "76907       2008.0          5,000,000                venture_B     489.166667  \n",
       "\n",
       "[70 rows x 18 columns]"
      ]
     },
     "execution_count": 6,
     "metadata": {},
     "output_type": "execute_result"
    }
   ],
   "source": [
    "# Check for test cases\n",
    "rounds[rounds[\"company_permalink\"].str.contains(\"test\")]"
   ]
  },
  {
   "cell_type": "code",
   "execution_count": null,
   "id": "85121034",
   "metadata": {},
   "outputs": [],
   "source": [
    "# Creating columns with macro economic indicators\n",
    "for i in rounds.index:\n",
    "    try:\n",
    "        rounds.loc[i,\"funding_inflation\"] = anninflation.loc[anninflation[\"country_code\"] == rounds.loc[i,\"company_country_code\"], \n",
    "                                              str(rounds.loc[i,\"funded_year\"].item())[0:4]].item()\n",
    "        rounds.loc[i,\"funding_int\"] = realint.loc[realint[\"country_code\"] == rounds.loc[i,\"company_country_code\"], \n",
    "                                              str(rounds.loc[i,\"funded_year\"].item())[0:4]].item()\n",
    "        rounds.loc[i,\"gdpgrowth\"] = gdpgrowth.loc[gdpgrowth[\"country_code\"] == rounds.loc[i,\"company_country_code\"], \n",
    "                                              str(rounds.loc[i,\"funded_year\"].item())[0:4]].item()\n",
    "    except:\n",
    "        try:\n",
    "            rounds.loc[i,\"funding_inflation\"] = anninflation.loc[anninflation[\"country_code\"] == \"WLD\", \n",
    "                                                  str(rounds.loc[i,\"funded_year\"].item())[0:4]].item()\n",
    "            rounds.loc[i,\"funding_int\"] = realint.loc[realint[\"country_code\"] == \"WLD\", \n",
    "                                              str(rounds.loc[i,\"funded_year\"].item())[0:4]].item()\n",
    "            rounds.loc[i,\"gdpgrowth\"] = gdpgrowth.loc[gdpgrowth[\"country_code\"] == \"WLD\", \n",
    "                                              str(rounds.loc[i,\"funded_year\"].item())[0:4]].item()\n",
    "        except:\n",
    "            pass"
   ]
  },
  {
   "cell_type": "code",
   "execution_count": null,
   "id": "724ebbbb",
   "metadata": {},
   "outputs": [],
   "source": [
    "# Adding inconsistent macro economic indicators \n",
    "for i in rounds.loc[rounds[\"funding_inflation\"].isna()].index:\n",
    "    try:\n",
    "        rounds.loc[i,\"funding_inflation\"] = anninflation.loc[anninflation[\"country_code\"] == \"WLD\", \n",
    "                                                  str(rounds.loc[i,\"funded_year\"].item())[0:4]].item()\n",
    "    except:\n",
    "            pass\n",
    "\n",
    "for i in rounds.loc[rounds[\"funding_int\"].isna()].index:\n",
    "    try:\n",
    "        rounds.loc[i,\"funding_int\"] = realint.loc[realint[\"country_code\"] == \"WLD\", \n",
    "                                              str(rounds.loc[i,\"funded_year\"].item())[0:4]].item()\n",
    "    except:\n",
    "            pass\n",
    "\n",
    "for i in rounds.loc[rounds[\"gdpgrowth\"].isna()].index:\n",
    "    try:\n",
    "        rounds.loc[i,\"gdpgrowth\"] = gdpgrowth.loc[gdpgrowth[\"country_code\"] == \"WLD\", \n",
    "                                              str(rounds.loc[i,\"funded_year\"].item())[0:4]].item()\n",
    "    except:\n",
    "            pass"
   ]
  },
  {
   "cell_type": "code",
   "execution_count": null,
   "id": "8d5efed2",
   "metadata": {},
   "outputs": [],
   "source": [
    "# Drop companies with no observations in fund year, and cannot be matched with macro data\n",
    "rounds = rounds[~rounds[\"company_permalink\"].isin(rounds.loc[rounds[\"funded_year\"].isna(),\"company_permalink\"].unique())]\n",
    "\n",
    "# Drop companies with no inflation data due to a early founding\n",
    "rounds = rounds[~rounds[\"company_permalink\"].isin(rounds.loc[rounds[\"funding_inflation\"].isna(),\"company_permalink\"].unique())]\n",
    "\n",
    "# Calculate the mean of the macro data per company\n",
    "for i in [\"funding_inflation\",\"funding_int\",\"gdpgrowth\"]:\n",
    "    rounds[i] = rounds.groupby(\"company_permalink\")[i].transform(lambda x: np.mean(x))\n",
    "\n",
    "# Sort the investments by date\n",
    "rounds = rounds.sort_values(\"funded_month\")\n",
    "\n",
    "# Save the dataframe as a csv\n",
    "#rounds.to_csv(\"rounds_cleaned.csv\")\n",
    "\n",
    "# Drop all earlier observations per comapny\n",
    "rounds_short = rounds.drop_duplicates(subset=[\"company_permalink\"], keep=\"last\")"
   ]
  },
  {
   "cell_type": "markdown",
   "id": "fa0a70f6",
   "metadata": {},
   "source": [
    "## Data Preparation: Investments"
   ]
  },
  {
   "cell_type": "code",
   "execution_count": null,
   "id": "85eab4c2",
   "metadata": {},
   "outputs": [],
   "source": [
    "# Derive the Investor Type\n",
    "investments[\"Investor_type\"] = investments[\"investor_permalink\"].str.split(\"/\", expand = True)[1]\n",
    "investments[investments[\"Investor_type\"].isna()][\"company_permalink\"].str.split(\"/\", expand = True)[1].unique()\n",
    "investments[\"Investor_type\"] = np.where(investments[\"Investor_type\"].isna(), 'organization',investments[\"Investor_type\"])\n",
    "\n",
    "# Create variable describing the type of investors (person, organization or both)\n",
    "investments[\"Investor_type\"] = investments.groupby(\"company_permalink\")[\"Investor_type\"].transform(lambda x: \" \".join(x))\n",
    "investments[\"Investor_type\"] = list(map(sorted,list(map(list,map(set,investments[\"Investor_type\"].str.split(\" \"))))))\n",
    "investments[\"Investor_type\"] = [\"/\".join(x) for x in investments[\"Investor_type\"]]\n",
    "\n",
    "# Create a variable containing a list of the names of all investors per investment\n",
    "investments[\"investor_name\"] = np.where(investments[\"investor_name\"].isna(), \"Unknown\", investments[\"investor_name\"])\n",
    "investments[\"investor_list\"] = investments.groupby(\"company_permalink\")[\"investor_name\"].transform(lambda x: \"-\".join(x))\n",
    "investments[\"investor_list\"] = list(map(list,map(set,investments[\"investor_list\"].str.split(\"-\"))))\n",
    "\n",
    "# Adjust the investor market for having only markets with more than 1000 observations\n",
    "investments[\"investor_market\"] = np.where(investments[\"investor_market\"].isin(list(investments[\"investor_market\"].value_counts().loc[lambda x: x > 1000].index)),\n",
    "                                          investments[\"investor_market\"],\n",
    "                                          \"Other\")\n",
    "\n",
    "# Create a list the countries of all investors with more than 500 observations\n",
    "investments[\"investor_country_code\"] = np.where(investments[\"investor_country_code\"].isna(), \n",
    "                                                \"Unknown\", \n",
    "                                                investments[\"investor_country_code\"])\n",
    "investments[\"investor_country_code\"] = np.where(investments[\"investor_country_code\"].isin(list(investments[\"investor_country_code\"].value_counts().loc[lambda x: x < 500].index)), \n",
    "                                                \"Other\", \n",
    "                                                investments[\"investor_country_code\"])\n",
    "investments[\"investor_country_list\"] = investments.groupby(\"company_permalink\")[\"investor_country_code\"].transform(lambda x: \"-\".join(x))\n",
    "investments[\"investor_country_list\"] = list(map(list,map(set,investments[\"investor_country_list\"].str.split(\"-\"))))\n",
    "\n",
    "# Create a list of the countries/states of all investors with more than 500 observations\n",
    "investments[\"investor_state_code\"] = np.where(investments[\"investor_state_code\"].isna(), \"Unknown\", investments[\"investor_state_code\"])\n",
    "investments[\"investor_country_state_list\"] = investments[\"investor_country_code\"]\n",
    "investments[\"investor_country_state_list\"] = np.where((investments[\"investor_country_state_list\"] == \"USA\") & (investments[\"investor_state_code\"].isin(list(investments[\"investor_state_code\"].value_counts().loc[lambda x: x >= 500].index))), \n",
    "                                                      investments[\"investor_state_code\"],\n",
    "                                                      investments[\"investor_country_state_list\"])\n",
    "investments[\"investor_country_state_list\"] = investments.groupby(\"company_permalink\")[\"investor_country_state_list\"].transform(lambda x: \"-\".join(x))\n",
    "investments[\"investor_country_state_list\"] = list(map(list,map(set,investments[\"investor_country_state_list\"].str.split(\"-\"))))\n",
    "\n",
    "# Create a variable counting the number of investors per investment\n",
    "investments[\"investor_number\"] = investments.groupby(\"company_permalink\")[\"company_name\"].transform('count')\n",
    "\n",
    "# Identify the most succesful investors and create a dummy on company level\n",
    "investments[\"PE\"] = np.where(investments[\"investor_name\"].isin(PE[\"NameDataset\"]), 1,0)\n",
    "investments[\"PE\"] = investments.groupby(\"company_permalink\")[\"PE\"].transform(lambda x: max(x))\n",
    "\n",
    "# Dropping the test case\n",
    "investments = investments[investments[\"company_name\"] != \"test company\"]"
   ]
  },
  {
   "cell_type": "code",
   "execution_count": null,
   "id": "034b29fe",
   "metadata": {
    "scrolled": true
   },
   "outputs": [],
   "source": [
    "# Prove that no other test cases available\n",
    "investments[investments[\"company_permalink\"].str.contains(\"test\")].head(50)"
   ]
  },
  {
   "cell_type": "code",
   "execution_count": null,
   "id": "4e090575",
   "metadata": {},
   "outputs": [],
   "source": [
    "# Sort the investments by date\n",
    "investments = investments.sort_values(\"funded_month\")"
   ]
  },
  {
   "cell_type": "code",
   "execution_count": null,
   "id": "bc88acb8",
   "metadata": {
    "scrolled": true
   },
   "outputs": [],
   "source": [
    "# Final dataframe\n",
    "investments"
   ]
  },
  {
   "cell_type": "code",
   "execution_count": null,
   "id": "bb926ec4",
   "metadata": {},
   "outputs": [],
   "source": [
    "# Save the dataframe as csv\n",
    "#investments.to_csv(\"investments_cleaned.csv\")"
   ]
  },
  {
   "cell_type": "code",
   "execution_count": null,
   "id": "64bbca6e",
   "metadata": {},
   "outputs": [],
   "source": [
    "# Drop all earlier observations per comapny\n",
    "investments_short = investments.drop_duplicates(subset=[\"company_permalink\"], keep=\"last\")"
   ]
  },
  {
   "cell_type": "markdown",
   "id": "4e041af4",
   "metadata": {},
   "source": [
    "# Merge"
   ]
  },
  {
   "cell_type": "markdown",
   "id": "f88d0114",
   "metadata": {},
   "source": [
    "## Merge: Organisation and Rounds"
   ]
  },
  {
   "cell_type": "code",
   "execution_count": null,
   "id": "be211a9a",
   "metadata": {},
   "outputs": [],
   "source": [
    "# Define the relevant columns used for the final dataframe\n",
    "List_variables_org = [\"permalink\",\"name\",\"market\",\"funding_total_usd\",\"status\",\"funding_rounds\",\"country_code\",\"state_code\",\"country_state_code\",\"TDelta_1\",\"TDelta_2\",\"founded_at_year\",\"founded_at_month\",\"first_funding_at_year\",\"first_funding_at_month\",\"last_funding_at_year\",\"last_funding_at_month\"]\n",
    "List_variables_rounds = [\"company_permalink\",\"funding_round_type_code\",\"Fund_avgDelta\",\"funding_inflation\",\"funding_int\",\"gdpgrowth\"]\n",
    "List_variables_inv = [\"company_permalink\",\"investor_market\",\"Investor_type\",\"investor_list\",\"investor_country_list\",\"investor_country_state_list\",\"investor_number\",\"PE\"]\n",
    "\n",
    "# Merge the organisation abd round dataframe \n",
    "Org_Rounnd = pd.merge(organisations.loc[:,List_variables_org],\n",
    "         rounds_short.loc[:,List_variables_rounds],\n",
    "         left_on = \"permalink\",\n",
    "         right_on = \"company_permalink\").drop([\"company_permalink\"], axis=1)"
   ]
  },
  {
   "cell_type": "code",
   "execution_count": null,
   "id": "b0774090",
   "metadata": {},
   "outputs": [],
   "source": [
    "# Shape of the new dataframe\n",
    "Org_Rounnd.shape"
   ]
  },
  {
   "cell_type": "code",
   "execution_count": null,
   "id": "2c4a1f24",
   "metadata": {
    "scrolled": true
   },
   "outputs": [],
   "source": [
    "# Description of the new dataframe\n",
    "Org_Rounnd.describe()"
   ]
  },
  {
   "cell_type": "code",
   "execution_count": null,
   "id": "1e0932c6",
   "metadata": {
    "scrolled": true
   },
   "outputs": [],
   "source": [
    "# Counting nan values for the new dataframe per column\n",
    "for i in Org_Rounnd.columns:\n",
    "    print(f\"{i}: {Org_Rounnd[i].isna().sum()}\")"
   ]
  },
  {
   "cell_type": "code",
   "execution_count": null,
   "id": "695294ab",
   "metadata": {},
   "outputs": [],
   "source": [
    "# Counting the number of unique elements per column of the new dataframe\n",
    "for i in Org_Rounnd.columns:\n",
    "    print(f\"{i}: {len(Org_Rounnd[i].unique())}\")"
   ]
  },
  {
   "cell_type": "code",
   "execution_count": null,
   "id": "d3d86be3",
   "metadata": {},
   "outputs": [],
   "source": [
    "# Save the new dataframe\n",
    "#Org_Rounnd.to_csv(\"Merge_Org_Round.csv\")"
   ]
  },
  {
   "cell_type": "markdown",
   "id": "1123595b",
   "metadata": {},
   "source": [
    "## Merge: Organisation, Rounds and Investments\n"
   ]
  },
  {
   "cell_type": "code",
   "execution_count": null,
   "id": "0b84a0cf",
   "metadata": {},
   "outputs": [],
   "source": [
    "# Second merge adding the investment dataframe\n",
    "All = pd.merge(Org_Rounnd,\n",
    "         investments_short.loc[:,List_variables_inv],\n",
    "         left_on = \"permalink\",\n",
    "         right_on = \"company_permalink\").drop([\"company_permalink\"], axis=1)"
   ]
  },
  {
   "cell_type": "code",
   "execution_count": null,
   "id": "fb71aa3d",
   "metadata": {},
   "outputs": [],
   "source": [
    "# Shape of the new dataframe\n",
    "All.shape"
   ]
  },
  {
   "cell_type": "code",
   "execution_count": null,
   "id": "81980df9",
   "metadata": {
    "scrolled": true
   },
   "outputs": [],
   "source": [
    "# Description of the new dataframe\n",
    "All.describe()"
   ]
  },
  {
   "cell_type": "code",
   "execution_count": null,
   "id": "27a9052e",
   "metadata": {
    "scrolled": true
   },
   "outputs": [],
   "source": [
    "# Counting nan values for the new dataframe per column\n",
    "for i in All.columns:\n",
    "    print(f\"{i}: {All[i].isna().sum()}\")"
   ]
  },
  {
   "cell_type": "code",
   "execution_count": null,
   "id": "4937d2c8",
   "metadata": {
    "scrolled": true
   },
   "outputs": [],
   "source": [
    "# Counting the number of unique elements per column of the new dataframe\n",
    "for i in All.columns:\n",
    "    if type(All[i][0]) != list:\n",
    "        print(f\"{i}: {len(All[i].unique())}\")\n",
    "    else:\n",
    "        print(f\"{i} is a list of lists\")"
   ]
  },
  {
   "cell_type": "code",
   "execution_count": null,
   "id": "07e8310a",
   "metadata": {},
   "outputs": [],
   "source": [
    "# Save the new dataframe\n",
    "All.to_csv(\"Merge_Org_Round_Inv.csv\")"
   ]
  },
  {
   "cell_type": "markdown",
   "id": "c4e187ad-082b-4a85-b911-8d297b43e860",
   "metadata": {},
   "source": [
    "## Rename Data for Analysis "
   ]
  },
  {
   "cell_type": "code",
   "execution_count": null,
   "id": "24bbd270",
   "metadata": {},
   "outputs": [],
   "source": [
    "investmentsC = investments\n",
    "organisationsC = organisations\n",
    "roundsC = rounds"
   ]
  },
  {
   "cell_type": "markdown",
   "id": "cc4d7cb7-3dcc-40a5-a7a6-e699cc732360",
   "metadata": {},
   "source": [
    "## Filter for relevant years 1995-2015"
   ]
  },
  {
   "cell_type": "code",
   "execution_count": null,
   "id": "31c7f16b-4324-4906-a8ba-7675ef1aca8c",
   "metadata": {},
   "outputs": [],
   "source": [
    "organisationsC = organisationsC[(organisationsC['founded_at_year'] >= 1995) & (organisationsC['founded_at_year'] <= 2015)]\n",
    "roundsC = roundsC[(roundsC['funded_year'] >= 1995) & (roundsC['funded_year'] <= 2015)]\n",
    "investmentsC = investmentsC[(investmentsC['funded_year'] >= 1995) & (investmentsC['funded_year'] <= 2015)]"
   ]
  },
  {
   "cell_type": "markdown",
   "id": "8bebed84-0bef-4dd1-8fcc-9fbf01a0b3ce",
   "metadata": {},
   "source": [
    "# 01_EDA organisations_cleaned.csv"
   ]
  },
  {
   "cell_type": "markdown",
   "id": "317b2034-d91a-49aa-8e20-fe9e8d82b7b5",
   "metadata": {},
   "source": [
    "## Distribution-plots: All numerical variables"
   ]
  },
  {
   "cell_type": "code",
   "execution_count": null,
   "id": "7b7c99e9-d3de-4611-944b-eb3ab15de92b",
   "metadata": {},
   "outputs": [],
   "source": [
    "# include only float and integer variables\n",
    "df_num = organisationsC.select_dtypes(include = ['float64', 'int64'])#.drop('Unnamed: 0', axis =1)\n",
    "# create hist plots\n",
    "df_num.hist(figsize=(16, 20), bins=50, xlabelsize=8, ylabelsize=8)"
   ]
  },
  {
   "cell_type": "markdown",
   "id": "4babf010-75da-42cb-9bb0-bcfb7758925d",
   "metadata": {},
   "source": [
    "### Comments\n",
    "* It can be observed that almost all numerical variables have a skewed distribution.\n",
    "* The most skewed distributions can be observed for the variables 'funding_total_usd', 'funding_rounds', 'TDelta_2'"
   ]
  },
  {
   "cell_type": "markdown",
   "id": "9f4a63f5-be52-4a62-88ae-8a10f6ea1ed9",
   "metadata": {},
   "source": [
    "## Exploring outliers"
   ]
  },
  {
   "cell_type": "code",
   "execution_count": null,
   "id": "786a9e3e-1e16-4f86-b3ad-ea09cee3d8b9",
   "metadata": {},
   "outputs": [],
   "source": [
    "# Show outliers based on percentile\n",
    "limit = organisationsC['funding_total_usd'].quantile(0.95)\n",
    "organisationsC[organisationsC['funding_total_usd']>=limit].sort_values(\"funding_total_usd\", ascending=False)"
   ]
  },
  {
   "cell_type": "code",
   "execution_count": null,
   "id": "159adc92-eb92-4785-86fa-c856e9956db2",
   "metadata": {},
   "outputs": [],
   "source": [
    "print(len(organisationsC[organisationsC['funding_total_usd']>=limit].sort_values(\"funding_total_usd\", ascending=False).index))"
   ]
  },
  {
   "cell_type": "code",
   "execution_count": null,
   "id": "86b823dd-ce55-4a38-b551-571ec8419829",
   "metadata": {},
   "outputs": [],
   "source": [
    "organisationsC[organisationsC['funding_total_usd']>=limit].sort_values(\"funding_total_usd\", ascending=False).iloc[-1]"
   ]
  },
  {
   "cell_type": "markdown",
   "id": "2c4fc9a2-fab4-44f0-8d68-1866568e0377",
   "metadata": {},
   "source": [
    "### Comments\n",
    "* 1414 organizations are within the 95%-percentile based on 'funding_total_usd'\n",
    "* The lower bound of the 95%-percentile is 63'099'998 USD and refers to the organization 'Smartling'"
   ]
  },
  {
   "cell_type": "code",
   "execution_count": null,
   "id": "0e32260d-3b92-4e6e-9d06-e02392eae888",
   "metadata": {},
   "outputs": [],
   "source": [
    "# Show outliers based on percentile\n",
    "limit = organisationsC['funding_rounds'].quantile(0.95)\n",
    "organisationsC[organisationsC['funding_rounds']>=limit].sort_values(\"funding_rounds\", ascending=False)"
   ]
  },
  {
   "cell_type": "code",
   "execution_count": null,
   "id": "37854586-0c83-494e-a8e0-96334d5f036f",
   "metadata": {},
   "outputs": [],
   "source": [
    "len(organisationsC[organisationsC['funding_rounds']>=limit].sort_values(\"funding_rounds\", ascending=False).index)"
   ]
  },
  {
   "cell_type": "markdown",
   "id": "9feff4af-77c7-4276-8769-6c7dfaf0b1ae",
   "metadata": {},
   "source": [
    "### Comments\n",
    "* There are 1921 organizations with 5 or more funding rounds\n",
    "* the highest number of funding rounds is 18 rounds for organization 'Solarflare Communications'"
   ]
  },
  {
   "cell_type": "markdown",
   "id": "468e2a97-c4be-46c1-b9ce-1f1aeac670f2",
   "metadata": {},
   "source": [
    "## Count-plots: Selected categorical variables"
   ]
  },
  {
   "cell_type": "code",
   "execution_count": null,
   "id": "f6479774-8eaf-4063-a8d9-cef4f9e38c3d",
   "metadata": {},
   "outputs": [],
   "source": [
    "# create list of all non-numeric variables\n",
    "df_cat = organisationsC.select_dtypes(include = ['object'])\n",
    "df_cat.columns"
   ]
  },
  {
   "cell_type": "code",
   "execution_count": null,
   "id": "db73be48-5d59-49b0-84e7-94a626168c4a",
   "metadata": {},
   "outputs": [],
   "source": [
    "# Creating count plots for selected variables\n",
    "fig, axs = plt.subplots(2, 2, figsize=(15, 15))\n",
    "organisationsC.groupby(\"market\")[\"state_code\"].count()\n",
    "\n",
    "\n",
    "sns.countplot(data=organisationsC, y=\"market\", color=\"skyblue\", ax=axs[0, 0], order=pd.value_counts(organisationsC['market']).iloc[:10].index)\n",
    "sns.countplot(data=organisationsC, y=\"status\", color=\"olive\", ax=axs[0, 1], order = organisationsC['status'].value_counts().index)\n",
    "sns.countplot(data=organisationsC, y=\"country_code\",  color=\"gold\", ax=axs[1, 0],order=pd.value_counts(organisationsC['country_code']).iloc[:10].index)\n",
    "sns.countplot(data=organisationsC, y=\"region\", color=\"teal\", ax=axs[1, 1], order=pd.value_counts(organisationsC['region']).iloc[:10].index)"
   ]
  },
  {
   "cell_type": "markdown",
   "id": "79754ffb-ee0c-47e8-b49c-74b05d515030",
   "metadata": {},
   "source": [
    "### Comments\n",
    "Due to a high number of categories per variable only the top 10 counts are shown\n",
    "* Software and Biotechnology are the most prominent markets for newly funded organizations (excluding the category 'other')\n",
    "* Most of the organizations are still in operational status\n",
    "* USA makes up for the majority of organizations by around a factor 8"
   ]
  },
  {
   "cell_type": "markdown",
   "id": "df516c4d-9ce0-419d-902a-e50c26b877e5",
   "metadata": {},
   "source": [
    "## Bar-plot: funding_total_usd per founding year"
   ]
  },
  {
   "cell_type": "code",
   "execution_count": null,
   "id": "92719d6f-f1ae-4708-9c42-ec0578e0aded",
   "metadata": {},
   "outputs": [],
   "source": [
    "fig = px.histogram(organisationsC, x='founded_at_year', y='funding_total_usd')\n",
    "fig.update_layout(\n",
    "    title='funding_total_usd per founding year',\n",
    "    barmode='group',\n",
    "    xaxis=dict(\n",
    "        rangeslider=dict(\n",
    "            visible=False,\n",
    "            thickness=.2\n",
    "        )\n",
    "    )\n",
    ")\n",
    "fig.show(renderer=\"iframe\")"
   ]
  },
  {
   "cell_type": "markdown",
   "id": "fe798e3d-b002-407a-851f-dff4893287c3",
   "metadata": {},
   "source": [
    "### Comments\n",
    "* The plot shows an approximately normal distribution\n",
    "* However, the plot itself can be misleading by suggesting that companies founded around 2005 show the highest funding amount. But funding_total_usd is a cumulative variable that increases over time with additional funding, which means that older companies have more time to accumulate funding compared to new ones.  Interestingly organizations founded earlier do not show the highest values, which indicates that the funding behavior changed over time. Also, the newer organizations on the right side show lower values because the time for funding is lower than older organizations."
   ]
  },
  {
   "cell_type": "markdown",
   "id": "2953362c-5a18-45b1-aa6f-a69b1bcfd7ec",
   "metadata": {},
   "source": [
    "## Line-plot: TDelta_1 avg (pivot) per founding year + filter for >=0"
   ]
  },
  {
   "cell_type": "code",
   "execution_count": null,
   "id": "5aa41eb4-9871-45d5-95b8-8e2dc98a0fd8",
   "metadata": {},
   "outputs": [],
   "source": [
    "# Pivoted df\n",
    "organisationsC_2 = organisationsC[organisationsC['TDelta_1'] >= 0]\n",
    "unused_columns = organisationsC.columns.difference(set(['founded_at_year']).union(set([])).union(set({'TDelta_1'})))\n",
    "tmp_df = organisationsC.drop(unused_columns, axis=1)\n",
    "pivot_table = tmp_df.pivot_table(\n",
    "    index=['founded_at_year'],\n",
    "    values=['TDelta_1'],\n",
    "    aggfunc={'TDelta_1': ['mean']}\n",
    ")\n",
    "organisationsC_2_pivot = pivot_table.reset_index()\n",
    "organisationsC_2_pivot.columns = ['founded_at_year', 'TDelta_1 mean']"
   ]
  },
  {
   "cell_type": "code",
   "execution_count": null,
   "id": "b8145298-e9b9-46b1-b550-b004472da715",
   "metadata": {},
   "outputs": [],
   "source": [
    "fig = px.line(organisationsC_2_pivot, x='founded_at_year', y='TDelta_1 mean')\n",
    "fig.update_layout(\n",
    "    title='Time from founding to funding',\n",
    "    xaxis=dict(\n",
    "        rangeslider=dict(\n",
    "            visible=True,\n",
    "            thickness=.05\n",
    "        )\n",
    "    )\n",
    ")\n",
    "#fig.show(renderer=\"iframe\")\n",
    "fig.show()"
   ]
  },
  {
   "cell_type": "markdown",
   "id": "c7d975fd-0118-4642-8508-873cef3e2833",
   "metadata": {},
   "source": [
    "* The variable 'TDelta_1' is defined as the time delta between the first funding round and the founding date of the organization. This can be interpreted as the time a company needs to raise funding after it got founded.\n",
    "* The plot shows the average TDelta_1 per year. It can be observed that this value is continuously declining over time, indicating that the time to raise funding decreases.\n",
    "* One possible explanation might be that access to capital is getting easier. This might be explained by new forms of risk capital like Venture capital or crowdfunding."
   ]
  },
  {
   "cell_type": "markdown",
   "id": "0b3cbd90-3699-40f5-ac10-95a62d121b94",
   "metadata": {},
   "source": [
    "## Bar-plot: Count of organisations per country_state_code / country_code (pivot)"
   ]
  },
  {
   "cell_type": "code",
   "execution_count": null,
   "id": "53a7db80-8bac-4ccd-baa1-dbd634773d5d",
   "metadata": {},
   "outputs": [],
   "source": [
    "# Pivoted df\n",
    "unused_columns = organisationsC.columns.difference(set(['country_code']).union(set([])).union(set({'permalink'})))\n",
    "tmp_df = organisationsC.drop(unused_columns, axis=1)\n",
    "pivot_table = tmp_df.pivot_table(\n",
    "    index=['country_code'],\n",
    "    values=['permalink'],\n",
    "    aggfunc={'permalink': ['count']}\n",
    ")\n",
    "organisationsC_9_pivot = pivot_table.reset_index()\n",
    "organisationsC_9_pivot.columns = ['country_code', 'permalink count']"
   ]
  },
  {
   "cell_type": "code",
   "execution_count": null,
   "id": "6475f420-0c99-4205-82b5-8564786ff775",
   "metadata": {},
   "outputs": [],
   "source": [
    "fig = px.bar(organisationsC_9_pivot, x='country_code', y='permalink count')\n",
    "fig.update_layout(\n",
    "    title='Organisations count per country_code (Top 30)',\n",
    "    barmode='group',\n",
    "    xaxis_range=[0,30]\n",
    "    \n",
    ")\n",
    "fig.update_xaxes(categoryorder='total descending')\n",
    "fig.show()\n",
    "#fig.show(renderer=\"iframe\") # Use iframe fro interactvie rendering"
   ]
  },
  {
   "cell_type": "code",
   "execution_count": null,
   "id": "93c3dcfa-4623-4e2e-b0b5-96656d079642",
   "metadata": {},
   "outputs": [],
   "source": [
    "# Pivoted df\n",
    "unused_columns = organisationsC.columns.difference(set(['country_state_code']).union(set([])).union(set({'permalink'})))\n",
    "tmp_df = organisationsC.drop(unused_columns, axis=1)\n",
    "pivot_table = tmp_df.pivot_table(\n",
    "    index=['country_state_code'],\n",
    "    values=['permalink'],\n",
    "    aggfunc={'permalink': ['count']}\n",
    ")\n",
    "organisationsC_4_pivot = pivot_table.reset_index()\n",
    "organisationsC_4_pivot.columns = ['country_state_code', 'permalink count']"
   ]
  },
  {
   "cell_type": "code",
   "execution_count": null,
   "id": "60d0e18f-8907-4dc3-9a6d-3dca4ee7b7e7",
   "metadata": {},
   "outputs": [],
   "source": [
    "fig = px.bar(organisationsC_4_pivot, x='country_state_code', y='permalink count')\n",
    "fig.update_layout(\n",
    "    title='Organisations count per country_state_code',\n",
    "    barmode='group',\n",
    "    xaxis_range=[0,30]\n",
    "    \n",
    ")\n",
    "fig.update_xaxes(categoryorder='total descending')\n",
    "fig.show(renderer=\"iframe\")"
   ]
  },
  {
   "cell_type": "markdown",
   "id": "3987fe2e-2a95-4e97-ab27-d08a504943d2",
   "metadata": {},
   "source": [
    "* As already mentioned before, the data set is predominantly consisting of organizations located in the USA. Therefore, a new variable was introduced that sets US states on the same level as countries 'country_state_code'.\n",
    "* Most organizations are located in the US state of California - which is famous for the Silicon Valley and its overall entrepreneurial activity.\n",
    "* This plot might lead to the conclusion that most organizations re founded in the USA, as e.g. the state of New York alone has more organizations than Great Britain. However, it might be the case that the data set is biased towards the USA and is not representative of the global entrepreneurial activity.\n"
   ]
  },
  {
   "cell_type": "markdown",
   "id": "66d161c7-8118-4646-8c2a-ea46e27d4bd3",
   "metadata": {},
   "source": [
    "## Bar-plot: largest 10 markets for selected countries\n"
   ]
  },
  {
   "cell_type": "code",
   "execution_count": null,
   "id": "ec254235-9e4e-477f-9329-0cb0413e4c6a",
   "metadata": {},
   "outputs": [],
   "source": [
    "# Select biggest countries\n",
    "organisationsC.country_code.value_counts()"
   ]
  },
  {
   "cell_type": "code",
   "execution_count": null,
   "id": "ad8dbaab-9614-47b2-9899-8bd38156ce3c",
   "metadata": {},
   "outputs": [],
   "source": [
    "market_con=organisationsC.groupby('country_code')['market'].value_counts().to_frame()\n",
    "fig,axes=plt.subplots(2,2,figsize=(20,10))\n",
    "cont=['USA','GBR','CAN','FRA']\n",
    "for con,ax in zip(cont,range(1,5)):\n",
    "    ax=plt.subplot(2,2,ax)\n",
    "    ax=sns.barplot(y=market_con.loc[con].index[0:10],x=market_con.loc[con].market[0:10],orient='h',palette='Blues_r')\n",
    "    ax.set_xlabel('Market Counts In {}'.format(con))\n",
    "plt.suptitle('Top 10 Market of organisations',size=40)\n",
    "#plt.savefig('Top10markets.png') \n",
    "plt.show()"
   ]
  },
  {
   "cell_type": "markdown",
   "id": "067d627c-cb4a-4c5c-8b8b-9aba85d6a2a7",
   "metadata": {},
   "source": [
    "### Comments\n",
    "* In all 4 countries the category 'Other' is the most dominant. This is due to the fact that during data preparation all market categories with only a few observations were grouped together as 'Others' in order to reduce the number of variable dummies needed in the model.\n",
    "* Please note that the x-axis scale significantly varies across the countries, because the US has by far the highest number of organizations.\n",
    "* One can observe that the top 10 markets are similar across all 4 countries and are dominated by 'Software', 'Biotechnology', 'Mobile', 'E-Commerce'."
   ]
  },
  {
   "cell_type": "markdown",
   "id": "bfdaa049-b34f-4cd8-b719-98006c0fd8c1",
   "metadata": {},
   "source": [
    "## SunBurst-plot: status per investor type"
   ]
  },
  {
   "cell_type": "code",
   "execution_count": null,
   "id": "4bcf14dc-b5d1-4a73-be56-4881feb74494",
   "metadata": {},
   "outputs": [],
   "source": [
    "# Sunburst plot: https://plotly.com/python/sunburst-charts/#sunburst-of-a-rectangular-dataframe-with-plotlyexpress\n",
    "# OR https://plotly.com/python/sunburst-charts/\n",
    "# Merged organisationsC and investmentsC (inner join)\n",
    "temp_df = investmentsC.drop_duplicates(subset='company_permalink') # Remove duplicates so lookup merge only returns first match\n",
    "investmentsC_tmp = temp_df.drop(['investor_city', 'investor_market', 'company_city', 'funded_quarter', 'investor_list', 'company_market', 'funded_year', 'investor_country_code', 'raised_amount_usd', 'investor_state_code', 'funding_round_permalink', 'funding_round_type', 'company_name', 'company_region', 'investor_region', 'investor_permalink', 'investor_number', 'investor_category_list', 'funded_month', 'company_category_list', 'investor_country_state_list', 'investor_country_list', 'company_state_code', 'funding_round_code', 'investor_name', 'company_country_code', 'funded_at'], axis=1)\n",
    "OrganisationsInvestC = organisationsC.merge(investmentsC_tmp, left_on=['permalink'], right_on=['company_permalink'], how='inner', suffixes=['_organisationsC', '_investmentsC'])\n"
   ]
  },
  {
   "cell_type": "code",
   "execution_count": null,
   "id": "b9dc8c2b-a39e-4aee-be5b-2eb9b86dbf97",
   "metadata": {},
   "outputs": [],
   "source": [
    "OrganisationsInvestC['status'].isna().value_counts() # 434 nas"
   ]
  },
  {
   "cell_type": "code",
   "execution_count": null,
   "id": "85d63735-e3fe-47c7-9da6-faed88d3b02e",
   "metadata": {},
   "outputs": [],
   "source": [
    "OrganisationsInvestC.dropna(subset = ['status'], inplace = True) # remove na from status\n",
    "OrganisationsInvestC = OrganisationsInvestC[OrganisationsInvestC['status'] != 'No_status'] # remoev no status\n",
    "OrganisationsInvestC[\"Investor_type\"].unique() # Check values\n",
    "OrganisationsInvestC[\"status\"].unique() # Check values\n"
   ]
  },
  {
   "cell_type": "code",
   "execution_count": null,
   "id": "500001ed-71ab-4063-b4e6-da5db03e5bd6",
   "metadata": {},
   "outputs": [],
   "source": [
    "# filter for closed status\n",
    "#OrganisationsInvestC= OrganisationsInvestC[OrganisationsInvestC['status'] == \"closed\"]"
   ]
  },
  {
   "cell_type": "code",
   "execution_count": null,
   "id": "231898b6-2353-42fc-83c9-46e044864a8a",
   "metadata": {},
   "outputs": [],
   "source": [
    "# Calculating share of organization-only investor type\n",
    "CountInvestorType = OrganisationsInvestC['Investor_type'].value_counts()\n",
    "CountInvestorType.loc[\"organization\"] / (CountInvestorType.sum())"
   ]
  },
  {
   "cell_type": "code",
   "execution_count": null,
   "id": "d39c245f-7173-42e9-865c-6ebe6662cd5f",
   "metadata": {},
   "outputs": [],
   "source": [
    "fig = px.sunburst(OrganisationsInvestC, path=['status', 'Investor_type'], width=800, height=800)\n",
    "fig.show()"
   ]
  },
  {
   "cell_type": "markdown",
   "id": "2645d038-3214-4fdd-a884-d4a6ada696a5",
   "metadata": {},
   "source": [
    "### Comments\n",
    "* The sunburst plot shows that the majority of the organizations is still operating and only a small part is closed.\n",
    "* The share of 'person' investors, which indicates private person investors, is small. However, it needs to be kept in mind that 74% of all organizations only have investments from organizations and not from 'persons'."
   ]
  },
  {
   "cell_type": "markdown",
   "id": "013be5b7",
   "metadata": {},
   "source": [
    "# 02_EDA rounds_cleaned.csv"
   ]
  },
  {
   "cell_type": "markdown",
   "id": "21631b38-32a6-4c72-b274-53bf22f1babe",
   "metadata": {},
   "source": [
    "## Further Data Clean-up and Exploration\n",
    "The code below enables further analysis of the rounds_cleaned.csv. It ensures that variables such as raised_amount and funded_year can be used properly, as these were presented a manner that was difficult to process."
   ]
  },
  {
   "cell_type": "code",
   "execution_count": null,
   "id": "57c7bff6-ec24-491a-8217-f64457260263",
   "metadata": {},
   "outputs": [],
   "source": [
    "roundsC = roundsC[roundsC[' raised_amount_usd '].notna()]\n",
    "roundsC = roundsC[roundsC[' raised_amount_usd '].str.contains('-')==False]\n",
    "roundsC[' raised_amount_usd '] = roundsC[' raised_amount_usd '].astype(str)\n",
    "\n",
    "new = []\n",
    "for i in roundsC[' raised_amount_usd ']:\n",
    "    x = i.strip()\n",
    "    x = x.replace(\",\",\"\")\n",
    "    x = float(x)\n",
    "    new.append(x)\n",
    "    \n",
    "roundsC[' raised_amount_usd '] = new \n",
    "roundsC.rename(columns={' raised_amount_usd ':'raised_amount_usd'}, inplace=True)\n",
    "roundsC.dtypes"
   ]
  },
  {
   "cell_type": "code",
   "execution_count": null,
   "id": "c04ea624-6a1f-4548-b81c-def086d76bc0",
   "metadata": {},
   "outputs": [],
   "source": [
    "roundsC.head()"
   ]
  },
  {
   "cell_type": "markdown",
   "id": "0f3fe578-ea7f-4eb4-a8ab-4bd1dae1a1ef",
   "metadata": {},
   "source": [
    "## Distribution of Observations (Years)"
   ]
  },
  {
   "cell_type": "code",
   "execution_count": null,
   "id": "4980b2ba-13f6-4c21-8f35-087fb49fce95",
   "metadata": {},
   "outputs": [],
   "source": [
    "roundsC_time_funding = roundsC\n",
    "\n",
    "# Changed funded_year from float64 to int\n",
    "roundsC_time_funding['funded_year'] = roundsC_time_funding['funded_year'].fillna(0).astype('int')\n",
    "\n",
    "# Filtered funded_year in roundsC\n",
    "roundsC_time_funding = roundsC_time_funding[roundsC_time_funding['funded_year'] > 0]\n",
    "\n",
    "import plotly.express as px\n",
    "\n",
    "# Filter the dataframe so that it does not crash the browser\n",
    "roundsC_time_funding_filtered = roundsC_time_funding\n",
    "\n",
    "\n",
    "fig = px.histogram(roundsC_time_funding_filtered, x='funded_year')\n",
    "fig.update_layout(\n",
    "    title='Rounds per funded_year histogram',\n",
    "    barmode='group',\n",
    "    xaxis=dict(\n",
    "        rangeslider=dict(\n",
    "            visible=False,\n",
    "            thickness=.05\n",
    "        )\n",
    "    )\n",
    ")\n",
    "#fig.show(renderer=\"iframe\") # Use for rendering interactive plot\n",
    "fig.show() # Use for downloading PNG"
   ]
  },
  {
   "cell_type": "markdown",
   "id": "68dda71f-d8f2-4312-84d8-edd2aae11006",
   "metadata": {},
   "source": [
    "### Comments\n",
    "The funded_year histogram shows how the number of total rounds has increased over the last years. This graph does not suggest that the global number of rounds has increased, it just shows that the data collected in our data set has been richer in the last couple of years. This graph is interesting, as it shows a rapid increase in total recorded rounds of funding in the last couple of years. The trend might be worth further exploration."
   ]
  },
  {
   "cell_type": "markdown",
   "id": "b9f190f5-942b-4c91-a4fe-320b6d7c3b3c",
   "metadata": {},
   "source": [
    "## Company Market Funding and Count - Rounds Data"
   ]
  },
  {
   "cell_type": "code",
   "execution_count": null,
   "id": "7c061f13-d45d-4e81-baf6-1667abe637c8",
   "metadata": {},
   "outputs": [],
   "source": [
    "roundsC_count_market = roundsC\n",
    "\n",
    "# Changed funded_year from float64 to int\n",
    "roundsC_count_market['funded_year'] = roundsC_count_market['funded_year'].fillna(0).astype('int')\n",
    "\n",
    "# Pivoted roundsC into df2\n",
    "unused_columns = roundsC_count_market.columns.difference(set(['company_market']).union(set([])).union(set({'company_market'})))\n",
    "tmp_df = roundsC_count_market.drop(unused_columns, axis=1)\n",
    "pivot_table = tmp_df.pivot_table(\n",
    "    index=['company_market'],\n",
    "    values=['company_market'],\n",
    "    aggfunc={'company_market': ['count']}\n",
    ")\n",
    "roundsC_pivot = pivot_table.reset_index()\n",
    "roundsC_pivot.columns = ['company_market', 'company_market count']\n",
    "\n",
    "# Filtered company_market count in roundsC_pivot\n",
    "roundsC_pivot = roundsC_pivot[roundsC_pivot['company_market count'] > 1500]\n",
    "\n",
    "\n",
    "fig = px.histogram(roundsC_pivot, x='company_market', y='company_market count')\n",
    "fig.update_layout(\n",
    "    title='Company Market Histogram',\n",
    "    barmode='group',\n",
    "    xaxis=dict(\n",
    "        rangeslider=dict(\n",
    "            visible=False,\n",
    "            thickness=.05\n",
    "        )\n",
    "    )\n",
    ")\n",
    "fig.show() # Use for downloading PNG\n",
    "\n",
    "roundsC_avg_funding_market = roundsC\n",
    "\n",
    "# Changed funded_year from float64 to int\n",
    "roundsC_avg_funding_market['funded_year'] = roundsC_avg_funding_market['funded_year'].fillna(0).astype('int')\n",
    "\n",
    "# Filtered funded_year in roundsC\n",
    "roundsC_avg_funding_market = roundsC_avg_funding_market[roundsC_avg_funding_market['funded_year'] > 0]\n",
    "\n",
    "# Pivoted roundsC into df2\n",
    "unused_columns = roundsC_avg_funding_market.columns.difference(set(['company_market']).union(set([])).union(set({'raised_amount_usd'})))\n",
    "tmp_df = roundsC_avg_funding_market.drop(unused_columns, axis=1)\n",
    "pivot_table = tmp_df.pivot_table(\n",
    "    index=['company_market'],\n",
    "    values=['raised_amount_usd'],\n",
    "    aggfunc={'raised_amount_usd': ['mean']}\n",
    ")\n",
    "roundsC_pivot = pivot_table.reset_index()\n",
    "roundsC_pivot.columns = ['company_market', 'raised_amount_usd_mean']\n",
    "\n",
    "# Filtered raised_amount_usd  mean in roundsC_pivot\n",
    "roundsC_pivot = roundsC_pivot[roundsC_pivot['raised_amount_usd_mean'] > 50000000]\n",
    "\n",
    "\n",
    "fig = px.bar(roundsC_pivot, x='company_market', y='raised_amount_usd_mean')\n",
    "fig.update_layout(\n",
    "    title='Mean Raised Amount by Market (USD)',\n",
    "    barmode='group',\n",
    "    xaxis=dict(\n",
    "        rangeslider=dict(\n",
    "            visible=False,\n",
    "            thickness=.05\n",
    "        )\n",
    "    )\n",
    ")\n",
    "fig.show() # Use for downloading PNG"
   ]
  },
  {
   "cell_type": "markdown",
   "id": "524e7c42-6d8f-49e8-853a-189f09395803",
   "metadata": {},
   "source": [
    "### Comments\n",
    "The 'Company Market Histogram' shows how many of the provided rounds are associated with a specific market. As several dozens of markets are included in the dataset, we have decided to present the most populated ones – the top 10. From the graph, we can see two distinct markets that dominate the makeup of the round’s dataset. First, Biotechnology which accounts for over 7000 round entries, and second, Software which has close to 7000 entries.  Other entries are comparable in size but are nevertheless important for analysis as they show a significant size compared to most other sectors.\n",
    "\n",
    "The 'Mean Raised Amounts' shows the average funding by rounds in the respective markets. This graph provides an additional perspective on the market variable, different from the aggregate count graph above. From this graph, we can deduce that markets such as Natural Gas Uses, Film Production and Recreation, require a lot more investment. This is especially interesting for our predicted variable, as it seems to show that certain markets by nature require higher levels of investments.\n",
    "\n",
    "These findings are very valuable for our modeling procedure, as we can use the high spending markets in a clustered manner to hopefully allow for an increase in the model accuracy."
   ]
  },
  {
   "cell_type": "markdown",
   "id": "48993ce7-469e-4b53-b020-6090129ad781",
   "metadata": {},
   "source": [
    "## Development Of Funding Amounts Over Time"
   ]
  },
  {
   "cell_type": "code",
   "execution_count": null,
   "id": "513f042f-69e7-48de-a66c-66dafb2f8f22",
   "metadata": {},
   "outputs": [],
   "source": [
    "roundsC_avg_funding_time = roundsC\n",
    "    \n",
    "# Changed funded_year from float64 to int\n",
    "roundsC_avg_funding_time['funded_year'] = roundsC_avg_funding_time['funded_year'].fillna(0).astype('int')\n",
    "\n",
    "# Filtered funded_year in roundsC\n",
    "roundsC_avg_funding_time = roundsC_avg_funding_time[roundsC_avg_funding_time['funded_year'] > 0]\n",
    "\n",
    "# Pivoted roundsC into df2\n",
    "unused_columns = roundsC_avg_funding_time.columns.difference(set(['funded_year']).union(set([])).union(set({'raised_amount_usd'})))\n",
    "tmp_df = roundsC_avg_funding_time.drop(unused_columns, axis=1)\n",
    "pivot_table = tmp_df.pivot_table(\n",
    "    index=['funded_year'],\n",
    "    values=['raised_amount_usd'],\n",
    "    aggfunc={'raised_amount_usd': ['mean']}\n",
    ")\n",
    "roundsC_pivot = pivot_table.reset_index()\n",
    "roundsC_pivot.columns = ['funded_year', 'raised_amount_usd_mean']\n",
    "\n",
    "\n",
    "fig = px.line(roundsC_pivot, x='funded_year', y='raised_amount_usd_mean')\n",
    "fig.update_layout(\n",
    "    title='Funding Over Time',\n",
    "    xaxis=dict(\n",
    "        rangeslider=dict(\n",
    "            visible=False,\n",
    "            thickness=.05\n",
    "        )\n",
    "    )\n",
    ")\n",
    "fig.show(renderer=\"iframe\")"
   ]
  },
  {
   "cell_type": "markdown",
   "id": "5913cfc5-26d1-4d29-b9aa-0fec1c8b8748",
   "metadata": {},
   "source": [
    "### Comments\n",
    "The graph above shows how the mean level of investments of overtime has changed from 1990 to 2015. The graph shows several distinct dips in average funding, which correlate with several financial crises. The graph also tells us that our newest data points record the highest mean funding amount in 25 years. This is important for our analysis as most of our data also comes from this time period. The model might suffer from potential biases caused by this."
   ]
  },
  {
   "cell_type": "markdown",
   "id": "7ffb35f3-c2d7-43a5-a79b-aba4a4547651",
   "metadata": {},
   "source": [
    "## Development of Funding Intervals"
   ]
  },
  {
   "cell_type": "code",
   "execution_count": null,
   "id": "844505a4-309d-4e23-a035-ec0279608564",
   "metadata": {},
   "outputs": [],
   "source": [
    "roundsC_avg_DaltaTime = roundsC\n",
    "roundsC_avg_DaltaTime = roundsC_avg_DaltaTime[roundsC_avg_DaltaTime['funded_year']!=0]\n",
    "    \n",
    "# Pivoted df\n",
    "unused_columns = roundsC_avg_DaltaTime.columns.difference(set(['funded_year']).union(set([])).union(set({'Fund_avgDelta'})))\n",
    "tmp_df = roundsC_avg_DaltaTime.drop(unused_columns, axis=1)\n",
    "pivot_table = tmp_df.pivot_table(\n",
    "    index=['funded_year'],\n",
    "    values=['Fund_avgDelta'],\n",
    "    aggfunc={'Fund_avgDelta': ['mean']}\n",
    ")\n",
    "roundsC_pivot = pivot_table.reset_index()\n",
    "roundsC_pivot.columns = ['funded_year', 'Fund_avgDelta_mean']\n",
    "\n",
    "import plotly.express as px\n",
    "\n",
    "fig = px.line(roundsC_pivot, x='funded_year', y='Fund_avgDelta_mean')\n",
    "fig.update_layout(\n",
    "    title='Development of Funding Intervals',\n",
    "    xaxis=dict(\n",
    "        rangeslider=dict(\n",
    "            visible=False,\n",
    "            thickness=.05\n",
    "        )\n",
    "    )\n",
    ")\n",
    "fig.show(renderer=\"iframe\")"
   ]
  },
  {
   "cell_type": "markdown",
   "id": "be9f1840-8302-46a8-a4dd-9cd119345355",
   "metadata": {},
   "source": [
    "### Comments\n",
    "The above graph shows how the average time between the individual funding rounds of listed companies. The mean delta in 1990 is very high, this can be explained by insufficient data or lag effects. Additionally, traditional industries typically do not require frequent rounds of funding (think infrastructure or construction). However, we do observe an interesting trend over the last 10 years. Even though the respective amount of data points increases in our later years, the average time between funding rounds decreases. This means that companies receive funding more frequently today."
   ]
  },
  {
   "cell_type": "markdown",
   "id": "d5b9ec11-3cf4-4c07-b6dc-c832638af96e",
   "metadata": {},
   "source": [
    "## Types of Funding in Rounds"
   ]
  },
  {
   "cell_type": "code",
   "execution_count": null,
   "id": "73a0fb2b-e93b-4010-8fc1-52e0008c70a2",
   "metadata": {},
   "outputs": [],
   "source": [
    "types=roundsC.funding_round_type.value_counts()\n",
    "plt.figure()\n",
    "\n",
    "cmap = plt.get_cmap(\"tab20c\")\n",
    "outer_colors = cmap(np.arange(3)*4)\n",
    "plt.pie(types.values, radius=2, colors=outer_colors,labels=types.index,autopct='%1.1f%%',\n",
    "       wedgeprops=dict(width=0.5, edgecolor='w'))\n",
    "plt.title('Types of Rounds',pad=100)\n",
    "plt.show()"
   ]
  },
  {
   "cell_type": "markdown",
   "id": "2600c08a-57ed-4397-a288-4004d1ab7060",
   "metadata": {},
   "source": [
    "### Comments\n",
    "The graph above shows the funding types that were used in each round. This graph is mostly self-explanatory, with venture funding being the most prominent style of founding. this is followed by Seed funding and debt financing. Angel investors also still represent a considerable amount of funds. All other sources of funding do not clear the 5% mark."
   ]
  },
  {
   "cell_type": "markdown",
   "id": "cf009021-694b-44e5-9a27-0244d89caba5",
   "metadata": {},
   "source": [
    "## Round Associated Markets in Different Countries"
   ]
  },
  {
   "cell_type": "code",
   "execution_count": null,
   "id": "65e8f096-8ea5-476f-b120-13f4892c0ce9",
   "metadata": {},
   "outputs": [],
   "source": [
    "market_con=roundsC.groupby('company_country_code')['company_market'].value_counts().to_frame()\n",
    "\n",
    "fig,axes=plt.subplots(3,3,figsize=(20,10))\n",
    "cont=['USA','GBR','CAN','CHN','DEU','FRA']\n",
    "for con,ax in zip(cont,range(1,7)):\n",
    "    ax=plt.subplot(2,3,ax)\n",
    "    ax=sns.barplot(y=market_con.loc[con].index[0:10],x=market_con.loc[con].company_market[0:10],orient='h',palette='Greens_r')\n",
    "    ax.set_xlabel('Market Counts In {}'.format(con))\n",
    "plt.suptitle('Rounds of Market in Countries',size=40)\n",
    "plt.show()"
   ]
  },
  {
   "cell_type": "markdown",
   "id": "bcbc4578-418b-4a0b-bb76-b182202516f7",
   "metadata": {},
   "source": [
    "### Comments\n",
    "The Rounds of Market in Countries graph shows the importance of markets in the respective countries. This is analyzed by counting the instances of rounds associated with distinct markets in each country. For example, we can deduce that the Biotechnology market in the USA gets has more funding rounds than the Software market. This effect is mirrored in the UK, in which Software shows more funding rounds than Biotechnology."
   ]
  },
  {
   "cell_type": "markdown",
   "id": "f8cc8567-b872-4086-b6dd-171c51dee7b3",
   "metadata": {},
   "source": [
    "# 03_EDA investments_cleaned.csv"
   ]
  },
  {
   "cell_type": "code",
   "execution_count": null,
   "id": "ca3eb5e4-5cd7-4243-86f1-0e7c087b01ec",
   "metadata": {},
   "outputs": [],
   "source": [
    "investmentsC.head()"
   ]
  },
  {
   "cell_type": "markdown",
   "id": "e6b60706-adbb-4d5a-a75b-f1fc8069abea",
   "metadata": {},
   "source": [
    "## Discovery Plots"
   ]
  },
  {
   "cell_type": "code",
   "execution_count": null,
   "id": "76985948-8707-4716-8e2c-64ad939124f0",
   "metadata": {},
   "outputs": [],
   "source": [
    "types=investmentsC.investor_market.value_counts()\n",
    "plt.figure()\n",
    "\n",
    "cmap = plt.get_cmap(\"tab20c\")\n",
    "outer_colors = cmap(np.arange(3)*4)\n",
    "plt.pie(types.values, radius=2, colors=outer_colors,labels=types.index,autopct='%1.1f%%',\n",
    "       wedgeprops=dict(width=0.5, edgecolor='w'))\n",
    "plt.title('Investor Markets',pad=100)\n",
    "plt.show()\n",
    "\n",
    "types=investmentsC.Investor_type.value_counts()\n",
    "plt.figure()\n",
    "\n",
    "cmap = plt.get_cmap(\"tab20c\")\n",
    "outer_colors = cmap(np.arange(3)*4)\n",
    "plt.pie(types.values, radius=2, colors=outer_colors,labels=types.index,autopct='%1.1f%%',\n",
    "       wedgeprops=dict(width=0.5, edgecolor='w'))\n",
    "plt.title('Investor Type',pad=100)\n",
    "plt.show()\n",
    "\n",
    "# include only float and integer variables\n",
    "df_num = investmentsC.select_dtypes(include = ['float64', 'int64'])\n",
    "# create hist plots\n",
    "df_num.hist(figsize=(16, 20), bins=50, xlabelsize=8, ylabelsize=8)"
   ]
  },
  {
   "cell_type": "markdown",
   "id": "c1b58a32-fcec-4836-b244-cd1ce4952e64",
   "metadata": {},
   "source": [
    "### Comments\n",
    "The basic graphs show us how some of the categorical variables in the dataset are distributed. We see that the majority of our investor’s markets are in the category of Other, while Venture Capital and Finance both represent more than 5% of the observations. Furthermore, we see that the types of investors graph have a dominant group called organizations, followed by organization/person. This indicates that most observations in this dataset are linked to institutional investors. Funding done by individual persons is only done in 3% of the given observations. Additionally, we also see the distribution of our numerical variables such as funded_year and investor_number. Once again, we can see that we have more observations for the later years in our dataset. We also see that observations tend to have smaller numbers of total investors. We can deduce this as the number of observations decrease as the number of investors increase."
   ]
  },
  {
   "cell_type": "markdown",
   "id": "d263f685-7350-4d70-8825-9348547349ec",
   "metadata": {},
   "source": [
    "## Funding round types over time"
   ]
  },
  {
   "cell_type": "code",
   "execution_count": null,
   "id": "a7208a37-9f8b-423f-9ec5-c232229126a7",
   "metadata": {},
   "outputs": [],
   "source": [
    "# Pivoted df\n",
    "unused_columns = investmentsC.columns.difference(set(['funded_year', 'funding_round_type']).union(set([])).union(set({'funding_round_type'})))\n",
    "tmp_df = investmentsC.drop(unused_columns, axis=1)\n",
    "pivot_table = tmp_df.pivot_table(\n",
    "    index=['funded_year', 'funding_round_type'],\n",
    "    values=['funding_round_type'],\n",
    "    aggfunc={'funding_round_type': ['count']}\n",
    ")\n",
    "organisationsC_5_pivot = pivot_table.reset_index()\n",
    "organisationsC_5_pivot.columns = ['funded_year', 'funding_round_type', 'funding_round_type count']\n",
    "\n",
    "organisationsC_5_pivot\n"
   ]
  },
  {
   "cell_type": "code",
   "execution_count": null,
   "id": "893ec3fb-3d73-45e3-9b06-0e38eef6aa19",
   "metadata": {},
   "outputs": [],
   "source": [
    "\n",
    "fig = px.bar(organisationsC_5_pivot, x='funded_year', y='funding_round_type count', color=\"funding_round_type\")\n",
    "fig.update_layout(\n",
    "    title='Bar Chart Funded Type',\n",
    "    barmode='group',\n",
    "    xaxis=dict(\n",
    "        rangeslider=dict(\n",
    "            visible=True,\n",
    "            thickness=.05\n",
    "        )\n",
    "    )\n",
    ")\n",
    "fig.show(renderer=\"iframe\")\n",
    "#fig.show()"
   ]
  },
  {
   "cell_type": "markdown",
   "id": "ebb0dc3e-bfcb-4e18-aeca-6959af96bb1c",
   "metadata": {},
   "source": [
    "### Comments\n",
    "* the count of funding types over time increases in accordance with teh overall increasing number if investments over time.\n",
    "* Venture and seed fundings increase in count over time. In particular seed becomes increasingly more common atfer 2008 until 2015"
   ]
  },
  {
   "cell_type": "code",
   "execution_count": null,
   "id": "0450d623-2d1d-45a4-bb08-6c7c2c7a060a",
   "metadata": {},
   "outputs": [],
   "source": [
    "unused_columns = investmentsC.columns.difference(set(['funded_year', 'funding_round_type']).union(set([])).union(set({'funding_round_type'})))\n",
    "tmp_df = investmentsC.drop(unused_columns, axis=1)\n",
    "pivot_table = tmp_df.pivot_table(\n",
    "    index=['funded_year', 'funding_round_type'],\n",
    "    values=['funding_round_type'],\n",
    "    aggfunc={'funding_round_type': ['count']}\n",
    ")\n",
    "investmentsC_pivot = pivot_table.reset_index()\n",
    "investmentsC_pivot.columns = ['funded_year', 'funding_round_type', 'funding_round_type count']\n",
    "\n",
    "# Filtered funded_year in investmentsC_pivot\n",
    "investmentsC_pivot = investmentsC_pivot[investmentsC_pivot['funded_year'] >= 2007]\n",
    "\n",
    "investmentsC_pivot.head(10)"
   ]
  },
  {
   "cell_type": "code",
   "execution_count": null,
   "id": "fe0365c1-b84c-4587-b561-e0a6c4cc78f4",
   "metadata": {},
   "outputs": [],
   "source": [
    "investmentsC_pivot['standard_value']= investmentsC_pivot['funding_round_type'].replace(['angel','convertible_note','debt_financing','grant','post_ipo_equity','private_equity','seed',\n",
    "                                                                        'undisclosed','venture','secondary_market','equity_crowdfunding','product_crowdfunding','post_ipo_debt'],\n",
    "                                                                       [286,4,49,9,4,62,402,162,5961,1,1,1,1])\n",
    "\n",
    "investmentsC_pivot['standardized_count'] = investmentsC_pivot['funding_round_type count'] / investmentsC_pivot['standard_value']\n",
    "\n",
    "#investmentsC_pivot = investmentsC_pivot[['funded_year', 'funding_round_type', 'standardized_count']]\n",
    "investmentsC_pivot"
   ]
  },
  {
   "cell_type": "code",
   "execution_count": null,
   "id": "71a9563e-5a17-47ef-970e-a8405a5d2672",
   "metadata": {
    "scrolled": true
   },
   "outputs": [],
   "source": [
    "fig = px.bar(investmentsC_pivot, x='funded_year', y='standardized_count', color=\"funding_round_type\")\n",
    "fig.update_layout(\n",
    "    title='Bar Chart Funded Type (Relative)',\n",
    "    barmode='group',\n",
    "    xaxis=dict(\n",
    "        rangeslider=dict(\n",
    "            visible=True,\n",
    "            thickness=.05\n",
    "        )\n",
    "    )\n",
    ")\n",
    "fig.show(renderer=\"iframe\")\n",
    "#fig.show()"
   ]
  },
  {
   "cell_type": "markdown",
   "id": "9d54406f",
   "metadata": {},
   "source": [
    "The graph above called 'Bar Chart Funded Type (Relative)' shows how the funding rounds types have changed in relation to a base value taken from 2007. The idea behind this was to evaluate the growth of investments in recent years. In practice, the graph only shows a biased interpretation of growth, as the results heavily rely on the number of actuals counts in 2007. For example, we see that venture seems to not grow at all from 2007-to 2014. This, however, is due to the venture types 2007 denominator of 5961 observations. We chose to exclude this graph from our presentation as it misrepresents the most prominent types of funding. Nevertheless, we can show that relative to the year 2007, convertable_notes seem to be increasing at the highest rate."
   ]
  },
  {
   "cell_type": "markdown",
   "id": "4a70c640-fa6c-49dd-907b-60c8b096f122",
   "metadata": {},
   "source": [
    "# 04_EDA acquisitions.csv"
   ]
  },
  {
   "cell_type": "code",
   "execution_count": null,
   "id": "88494646-88b3-41c2-8400-412133c5006b",
   "metadata": {},
   "outputs": [],
   "source": [
    "acquisitionsC = pd.read_csv(f\"{dirname}/acquisitions.csv\")"
   ]
  },
  {
   "cell_type": "code",
   "execution_count": null,
   "id": "7641b2fa-efc7-45fe-bcc8-6893fe690d11",
   "metadata": {},
   "outputs": [],
   "source": [
    "acquisitionsC.shape"
   ]
  },
  {
   "cell_type": "code",
   "execution_count": null,
   "id": "6fa5a556-dad0-4477-a5c6-8f0db3114cd5",
   "metadata": {},
   "outputs": [],
   "source": [
    "print(acquisitionsC.isnull().sum())"
   ]
  },
  {
   "cell_type": "markdown",
   "id": "355a2b0d-fbad-41d1-bbb5-08611a3a2c06",
   "metadata": {},
   "source": [
    "### Comments\n",
    "* During the initial data exploration it was deetected that the data set 'acquisitions.csv' shows a high number of missing values (around 42'000 of 55'240 observations for most of the variables).\n",
    "* Therefore it was decideed to not further use this data set."
   ]
  },
  {
   "cell_type": "markdown",
   "id": "58af59be-bab7-47e5-bfda-1ae5fd900562",
   "metadata": {},
   "source": [
    "# 05_EDA Merge_Org_Round_Inv"
   ]
  },
  {
   "cell_type": "code",
   "execution_count": null,
   "id": "d2513b45-b62b-40d0-92f6-8b8a86afdbda",
   "metadata": {},
   "outputs": [],
   "source": [
    "dirname = os.path.abspath(os.getcwd())\n",
    "merged_org_round_inv = pd.read_csv(f\"{dirname}/Merge_Org_Round_Inv.csv\")"
   ]
  },
  {
   "cell_type": "code",
   "execution_count": null,
   "id": "7cb87ff0-5d1a-4d58-8bf7-29983ad88707",
   "metadata": {},
   "outputs": [],
   "source": [
    "merged_org_round_inv.head(5)"
   ]
  },
  {
   "cell_type": "code",
   "execution_count": null,
   "id": "e1be52a6-9dbc-403a-a5e1-3d4f0f4662b1",
   "metadata": {},
   "outputs": [],
   "source": [
    "merged_org_round_inv.describe()"
   ]
  },
  {
   "cell_type": "markdown",
   "id": "2146921d-670a-4d6f-994e-d4eafc38c3e7",
   "metadata": {},
   "source": [
    "## Funded Year Histogram"
   ]
  },
  {
   "cell_type": "code",
   "execution_count": null,
   "id": "3225b515-7cc1-491e-a3f3-adc2ccb2d81d",
   "metadata": {},
   "outputs": [],
   "source": [
    "merged_funded_year_dist = merged_org_round_inv\n",
    "\n",
    "# Changed funded_year from float64 to int\n",
    "merged_funded_year_dist['founded_at_year'] = merged_funded_year_dist['founded_at_year'].fillna(0).astype('int')\n",
    "\n",
    "# Filter the dataframe so that it does not crash the browser\n",
    "merged_funding_dist_filtered = merged_funded_year_dist\n",
    "\n",
    "# Construct the graph and style it. Further customize your graph by editing this code.\n",
    "# See Plotly Documentation for help: https://plotly.com/python/plotly-express/\n",
    "fig = px.histogram(merged_funding_dist_filtered, x='founded_at_year')\n",
    "fig.update_layout(\n",
    "    title='Funded Year Histogram',\n",
    "    barmode='group',\n",
    "    xaxis=dict(\n",
    "        rangeslider=dict(\n",
    "            visible=True,\n",
    "            thickness=.05\n",
    "        )\n",
    "    )\n",
    ")\n",
    "fig.show(renderer=\"iframe\")"
   ]
  },
  {
   "cell_type": "markdown",
   "id": "7d159c08-a8e4-4dca-bd65-778c5e553aee",
   "metadata": {},
   "source": [
    "### Comments\n",
    "The funded year histogram repeats the already established distribution pattern. This means that our merged and final dataset is also exposed to a recency bias. Most of the observations in our dataset are from 2005 onwards. We must account for this recency effect in our analysis."
   ]
  },
  {
   "cell_type": "markdown",
   "id": "03a32eaf-8917-4e29-83e3-e3117dc6d12f",
   "metadata": {},
   "source": [
    "## Company Market Funding and Count - Merged Data"
   ]
  },
  {
   "cell_type": "code",
   "execution_count": null,
   "id": "3de63c6a-a986-48d8-b69c-685c634a05e8",
   "metadata": {},
   "outputs": [],
   "source": [
    "merged_market_dist = merged_org_round_inv\n",
    "\n",
    "# Changed funded_year from float64 to int\n",
    "merged_market_dist['founded_at_year'] = merged_market_dist['founded_at_year'].fillna(0).astype('int')\n",
    "\n",
    "# Pivoted roundsC into df2\n",
    "unused_columns = merged_market_dist.columns.difference(set(['market']).union(set([])).union(set({'market'})))\n",
    "tmp_df = merged_market_dist.drop(unused_columns, axis=1)\n",
    "pivot_table = tmp_df.pivot_table(\n",
    "    index=['market'],\n",
    "    values=['market'],\n",
    "    aggfunc={'market': ['count']}\n",
    ")\n",
    "roundsC_pivot = pivot_table.reset_index()\n",
    "roundsC_pivot.columns = ['market', 'market count']\n",
    "\n",
    "# Filtered company_market count in roundsC_pivot\n",
    "roundsC_pivot = roundsC_pivot[roundsC_pivot['market count'] > 400]\n",
    "\n",
    "# Construct the graph and style it. Further customize your graph by editing this code.\n",
    "# See Plotly Documentation for help: https://plotly.com/python/plotly-express/\n",
    "fig = px.histogram(roundsC_pivot, x='market', y='market count')\n",
    "fig.update_layout(\n",
    "    title='Company Market Histogram',\n",
    "    barmode='group',\n",
    "    xaxis=dict(\n",
    "        rangeslider=dict(\n",
    "            visible=False,\n",
    "            thickness=.05\n",
    "        )\n",
    "    )\n",
    ")\n",
    "fig.update_xaxes(categoryorder='total descending')\n",
    "fig.show() # Use for downloading PNG"
   ]
  },
  {
   "cell_type": "code",
   "execution_count": null,
   "id": "cac75ebc-6a1e-40ed-9d40-d233e907953e",
   "metadata": {},
   "outputs": [],
   "source": [
    "merged_market_funding_amount = merged_org_round_inv\n",
    "\n",
    "# Changed funded_year from float64 to int\n",
    "merged_market_funding_amount['founded_at_year'] = merged_market_funding_amount['founded_at_year'].fillna(0).astype('int')\n",
    "\n",
    "# Pivoted roundsC into df2\n",
    "unused_columns = merged_market_funding_amount.columns.difference(set(['market']).union(set([])).union(set({'funding_total_usd'})))\n",
    "tmp_df = merged_market_funding_amount.drop(unused_columns, axis=1)\n",
    "pivot_table = tmp_df.pivot_table(\n",
    "    index=['market'],\n",
    "    values=['funding_total_usd'],\n",
    "    aggfunc={'funding_total_usd': ['mean']}\n",
    ")\n",
    "merged_pivot = pivot_table.reset_index()\n",
    "merged_pivot.columns = ['market', 'funding_total_usd_mean']\n",
    "\n",
    "# Filtered raised_amount_usd  mean in roundsC_pivot\n",
    "merged_pivot = merged_pivot[merged_pivot['funding_total_usd_mean'] > 20000000]\n",
    "\n",
    "# Construct the graph and style it. Further customize your graph by editing this code.\n",
    "# See Plotly Documentation for help: https://plotly.com/python/plotly-express/\n",
    "fig = px.bar(merged_pivot, x='market', y='funding_total_usd_mean')\n",
    "fig.update_layout(\n",
    "    title='Mean Raised Amount by Market (USD)',\n",
    "    barmode='group',\n",
    "    xaxis=dict(\n",
    "        rangeslider=dict(\n",
    "            visible=False,\n",
    "            thickness=.05\n",
    "        )\n",
    "    )\n",
    ")\n",
    "fig.update_xaxes(categoryorder='total descending')\n",
    "fig.show() # Use for downloading PNG"
   ]
  },
  {
   "cell_type": "markdown",
   "id": "5d54dde2-68bb-48cd-8be3-1fa2a1652c2b",
   "metadata": {},
   "source": [
    "### Comments\n",
    "The first graph 'Company Market Histogram' shows how the observations in our dataset are distributed over the available markets. In order to ease modeling we have decided to classify all markets that have less than 100 observations as others, this is the cause of the large 'other' market. Furthermore, we also created a market for all the high spending markets such as Oil and Natural Gas, which were identified in the EDA_Rounds analysis. This market was named 'High_funding_market' and is not visible in the first graph, as it does not include a lot of observations. However, it is the dominant market when we analyze the mean raised amount in graph two.\n",
    "\n",
    "In the 'Mean Raised Amount by Markets‘ graph, we can see that the most funded markets are not equal to the most frequent. Here we can also see the relevancy of our newly created ‘High_funding_market’, it allows our model to easily distinguish between high spending markets and others. Furthermore, we can also see that ‘Internet’ and ‘Technology’ are also markets in which large funding sums are possible."
   ]
  },
  {
   "cell_type": "markdown",
   "id": "f6dbd58a-ddee-433e-8157-299ec324e2e9",
   "metadata": {},
   "source": [
    "## Rounds Based Funding Mean"
   ]
  },
  {
   "cell_type": "code",
   "execution_count": null,
   "id": "bcbe702d-7cc7-4a57-a397-0bc9e371355d",
   "metadata": {},
   "outputs": [],
   "source": [
    "merged_rounds_funding_amount = merged_org_round_inv\n",
    "\n",
    "unused_columns = merged_rounds_funding_amount.columns.difference(set(['funding_rounds']).union(set([])).union(set({'funding_total_usd'})))\n",
    "tmp_df = merged_rounds_funding_amount.drop(unused_columns, axis=1)\n",
    "pivot_table = tmp_df.pivot_table(\n",
    "    index=['funding_rounds'],\n",
    "    values=['funding_total_usd'],\n",
    "    aggfunc={'funding_total_usd': ['mean']}\n",
    ")\n",
    "merged_rounds_pivot = pivot_table.reset_index()\n",
    "merged_rounds_pivot.columns = ['funding_rounds', 'funding_total_usd_mean']\n",
    "\n",
    "fig = px.bar(merged_rounds_pivot, x='funding_rounds', y='funding_total_usd_mean')\n",
    "fig.update_layout(\n",
    "    title='Rounds Based Funding Mean',\n",
    "    barmode='group',\n",
    "    xaxis=dict(\n",
    "        rangeslider=dict(\n",
    "            visible=False,\n",
    "            thickness=.05\n",
    "        )\n",
    "    )\n",
    ")\n",
    "fig.show(renderer=\"iframe\")"
   ]
  },
  {
   "cell_type": "markdown",
   "id": "3714a8a7-3b2a-4b9a-870b-9d5a71e3ae4e",
   "metadata": {},
   "source": [
    "### Comments\n",
    "In terms of mean funding_totel_usd, funding_rounds looks to be a roughly normally distributed variable. We can observe an extreme outlier for the 18 rounds of observation, which could be interesting for further analysis. We can also observe that on average the mean investment sum increases until the 11th round of funding; thereafter decreases. This variable will be useful for our model as there are distinct differences between the individual rounds of funding."
   ]
  },
  {
   "cell_type": "markdown",
   "id": "fbfcbb3b-9dec-40d5-a9ac-f49b964439d7",
   "metadata": {},
   "source": [
    "## Intrest Rate Obervations"
   ]
  },
  {
   "cell_type": "code",
   "execution_count": null,
   "id": "dc535493-1ce6-4ba2-8e66-8fc5973e1fec",
   "metadata": {},
   "outputs": [],
   "source": [
    "merged_interest_funding_amount = merged_org_round_inv\n",
    "\n",
    "fig = px.scatter(merged_interest_funding_amount, x='funding_int', y='funding_total_usd')\n",
    "fig.update_layout(\n",
    "    title='Investments Based on Average Interest Rates',\n",
    "    xaxis=dict(\n",
    "        rangeslider=dict(\n",
    "            visible=False,\n",
    "            thickness=.05\n",
    "        )\n",
    "    )\n",
    ")\n",
    "fig.show(renderer=\"iframe\")"
   ]
  },
  {
   "cell_type": "code",
   "execution_count": null,
   "id": "cff9b5f7",
   "metadata": {},
   "outputs": [],
   "source": [
    "#Filtered country_code in merged_org_round_inv\n",
    "merged_org_round_inv = merged_org_round_inv[merged_org_round_inv['country_code'] == 'USA']\n",
    "\n",
    "# Pivoted merged_org_round_inv into df2\n",
    "unused_columns = merged_org_round_inv.columns.difference(set(['last_funding_at_year']).union(set([])).union(set({'funding_int'})))\n",
    "tmp_df = merged_org_round_inv.drop(unused_columns, axis=1)\n",
    "pivot_table = tmp_df.pivot_table(\n",
    "    index=['last_funding_at_year'],\n",
    "    values=['funding_int'],\n",
    "    aggfunc={'funding_int': ['mean']}\n",
    ")\n",
    "merged_pivot = pivot_table.reset_index()\n",
    "merged_pivot.columns = ['last_funding_at_year', 'funding_int_mean']\n",
    "\n",
    "fig = px.line(merged_pivot, x='last_funding_at_year', y='funding_int_mean')\n",
    "fig.update_layout(\n",
    "    title='Mean Intrest Rate (USA)',\n",
    "    xaxis=dict(\n",
    "        rangeslider=dict(\n",
    "            visible=False,\n",
    "            thickness=.05\n",
    "        )\n",
    "    )\n",
    ")\n",
    "\n",
    "fig.show(renderer=\"iframe\")"
   ]
  },
  {
   "cell_type": "markdown",
   "id": "f23bfb29-d6d3-4d11-badd-6bf127a04d6f",
   "metadata": {},
   "source": [
    "### Comments\n",
    "The first graph labeled ‘Investments Based on Average Interest Rates’ tells the story of optimal average interest rates within a country, which allow for larger sums of mean investment. We see a clear distribution that centers around a 2-3% interest rate. It is in this region, that large investments are made. Moving away from the 2-3% mark results in lower investments on average.\n",
    "\n",
    "The second graph is also based on interest rates and provides an overview of the development of the interest rate in the USA . As interest rates can be used to analyze the willingness and ability of investors to spend, we have included this graph in our analysis. We can observe that the interest rate had a sharp drop from the year 2000 until 2004. Furthermore, we can see a short spike from 2004 until 2007, which then turns into a drop that continues until 2015. The observed drops and spikes correlate with the larger financial crisis the western world experienced in the 21st century. "
   ]
  },
  {
   "cell_type": "markdown",
   "id": "8c895388-ba30-4b6b-81fd-9d90efd2123b",
   "metadata": {},
   "source": [
    "## Exploration of Status Relevancy"
   ]
  },
  {
   "cell_type": "code",
   "execution_count": null,
   "id": "c54ed84a-efac-4e54-8512-40d3c019828b",
   "metadata": {},
   "outputs": [],
   "source": [
    "unused_columns = merged_org_round_inv.columns.difference(set(['status']).union(set([])).union(set({'funding_total_usd'})))\n",
    "tmp_df = merged_org_round_inv.drop(unused_columns, axis=1)\n",
    "pivot_table = tmp_df.pivot_table(\n",
    "    index=['status'],\n",
    "    values=['funding_total_usd'],\n",
    "    aggfunc={'funding_total_usd': ['mean']}\n",
    ")\n",
    "\n",
    "merged_pivot = pivot_table.reset_index()\n",
    "merged_pivot.columns = ['status', 'funding_total_usd_mean']\n",
    "\n",
    "fig = px.bar(merged_pivot, x='status', y='funding_total_usd_mean', color='status')\n",
    "fig.update_layout(\n",
    "    title='Mean Funding by Status',\n",
    "    barmode='group',\n",
    "    xaxis=dict(\n",
    "        rangeslider=dict(\n",
    "            visible=False,\n",
    "            thickness=.05\n",
    "        )\n",
    "    )\n",
    ")\n",
    "fig.show(renderer=\"iframe\")\n",
    "\n",
    "types=merged_org_round_inv.status.value_counts()\n",
    "plt.figure()\n",
    "\n",
    "cmap = plt.get_cmap(\"tab20c\")\n",
    "outer_colors = cmap(np.arange(3)*4)\n",
    "plt.pie(types.values, radius=2, colors=outer_colors,labels=types.index,autopct='%1.1f%%',\n",
    "       wedgeprops=dict(width=0.5, edgecolor='w'))\n",
    "plt.title('Status Distribution',pad=100)\n",
    "plt.show()"
   ]
  },
  {
   "cell_type": "markdown",
   "id": "888309fa-91e7-4e69-8552-bed83310fc12",
   "metadata": {},
   "source": [
    "### Comments\n",
    "The graph ‘Mean Funding Status’ shows us the mean funding that companies received and their current status. This tells an interesting story, in which companies that receive more funding seem to have an 'acquired' or 'operating' status. While companies with relatively lower mean funding amount have the status 'No_status' or 'closed'. This seems to indicate that companies that receive more funding do better in terms of firm survival. We must be careful with our interpretation though as we do not have a balanced data set in terms of time, which means that 'closed' could be affected by an early founding date + lower amount of funding in the past. Furthermore, we can see from the second graph ‘Status Distribution’ that most observations are classified as ‘operating’, while only 14.7% are classified as ‘acquired’. Nevertheless, acquired has the higher mean funding amount. This discovery would be important for our model, as this indicates that companies that ate given the status acquired, show a high level of funding."
   ]
  }
 ],
 "metadata": {
  "kernelspec": {
   "display_name": "Python 3 (ipykernel)",
   "language": "python",
   "name": "python3"
  },
  "language_info": {
   "codemirror_mode": {
    "name": "ipython",
    "version": 3
   },
   "file_extension": ".py",
   "mimetype": "text/x-python",
   "name": "python",
   "nbconvert_exporter": "python",
   "pygments_lexer": "ipython3",
   "version": "3.9.7"
  }
 },
 "nbformat": 4,
 "nbformat_minor": 5
}
