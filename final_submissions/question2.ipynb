{
 "cells": [
  {
   "cell_type": "markdown",
   "metadata": {},
   "source": [
    "# Preliminary note to the user"
   ]
  },
  {
   "cell_type": "markdown",
   "metadata": {},
   "source": [
    "#### The applied models, including the Grid search, are requiring extensive computational power, which might lead to a long run-time. Therefore, the notebook is extended by the data preparation and feature engineering code, though it is not executed yet as the data was originally loaded from an external file. Nonetheless, the code can be executed as submitted and will produce the shown results."
   ]
  },
  {
   "cell_type": "markdown",
   "metadata": {},
   "source": [
    "# Packages"
   ]
  },
  {
   "cell_type": "code",
   "execution_count": 2,
   "metadata": {},
   "outputs": [],
   "source": [
    "import numpy as np\n",
    "import pandas as pd\n",
    "import os\n",
    "from sklearn.model_selection import train_test_split\n",
    "import warnings\n",
    "from pandas.core.common import SettingWithCopyWarning\n",
    "import pickle\n",
    "from matplotlib import pyplot as plt\n",
    "\n",
    "warnings.simplefilter(action=\"ignore\", category=SettingWithCopyWarning)"
   ]
  },
  {
   "cell_type": "markdown",
   "metadata": {},
   "source": [
    "# Import Data"
   ]
  },
  {
   "cell_type": "code",
   "execution_count": 3,
   "metadata": {},
   "outputs": [
    {
     "name": "stderr",
     "output_type": "stream",
     "text": [
      "/Users/nilsmartens/opt/anaconda3/envs/python38/lib/python3.8/site-packages/IPython/core/interactiveshell.py:3457: DtypeWarning: Columns (0,1,2,3,4,5,6,7,8,9,10,11,12,13,14,15,16,17,18,20,21) have mixed types.Specify dtype option on import or set low_memory=False.\n",
      "  exec(code_obj, self.user_global_ns, self.user_ns)\n"
     ]
    }
   ],
   "source": [
    "# Derive path\n",
    "dirname = os.path.abspath(os.getcwd())\n",
    "\n",
    "# Original files\n",
    "acquisition = pd.read_csv(f\"{dirname[:-17]}/data/acquisitions.csv\")\n",
    "investments = pd.read_csv(f\"{dirname[:-17]}/data/investments.csv\")\n",
    "organisations = pd.read_csv(f\"{dirname[:-17]}/data/organisations.csv\")\n",
    "rounds = pd.read_csv(f\"{dirname[:-17]}/data/rounds.csv\")\n",
    "\n",
    "# External data\n",
    "PE = pd.read_csv(f\"{dirname[:-17]}/data/PE_list.csv\",index_col=0)\n",
    "anninflation = pd.read_csv(f\"{dirname[:-17]}/data/Inflation.csv\")\n",
    "realint = pd.read_csv(f\"{dirname[:-17]}/data/real_interest.csv\")\n",
    "gdpgrowth = pd.read_csv(f\"{dirname[:-17]}/data/gdpgrowth.csv\")"
   ]
  },
  {
   "cell_type": "markdown",
   "metadata": {},
   "source": [
    "# Create Function"
   ]
  },
  {
   "cell_type": "markdown",
   "metadata": {},
   "source": [
    "## Function to reduce memory used"
   ]
  },
  {
   "cell_type": "code",
   "execution_count": 4,
   "metadata": {},
   "outputs": [],
   "source": [
    "def reduce_mem_usage(props):\n",
    "    start_mem_usg = props.memory_usage().sum() / 1024**2 \n",
    "    print(\"Memory usage of properties dataframe is :\",start_mem_usg,\" MB\")\n",
    "    NAlist = [] # Keeps track of columns that have missing values filled in. \n",
    "    for col in props.columns:\n",
    "        if props[col].dtype != object:  # Exclude strings\n",
    "            \n",
    "            # Print current column type\n",
    "            print(\"******************************\")\n",
    "            print(\"Column: \",col)\n",
    "            print(\"dtype before: \",props[col].dtype)\n",
    "            \n",
    "            # make variables for Int, max and min\n",
    "            IsInt = False\n",
    "            mx = props[col].max()\n",
    "            mn = props[col].min()\n",
    "            \n",
    "            # Integer does not support NA, therefore, NA needs to be filled\n",
    "            if not np.isfinite(props[col]).all(): \n",
    "                NAlist.append(col)\n",
    "                props[col].fillna(mn-1,inplace=True)  \n",
    "                   \n",
    "            # test if column can be converted to an integer\n",
    "            asint = props[col].fillna(0).astype(np.int64)\n",
    "            result = (props[col] - asint)\n",
    "            result = result.sum()\n",
    "            if result > -0.01 and result < 0.01:\n",
    "                IsInt = True\n",
    "\n",
    "            \n",
    "            # Make Integer/unsigned Integer datatypes\n",
    "            if IsInt:\n",
    "                if mn >= 0:\n",
    "                    if mx < 255:\n",
    "                        props[col] = props[col].astype(np.uint8)\n",
    "                    elif mx < 65535:\n",
    "                        props[col] = props[col].astype(np.uint16)\n",
    "                    elif mx < 4294967295:\n",
    "                        props[col] = props[col].astype(np.uint32)\n",
    "                    else:\n",
    "                        props[col] = props[col].astype(np.uint64)\n",
    "                else:\n",
    "                    if mn > np.iinfo(np.int8).min and mx < np.iinfo(np.int8).max:\n",
    "                        props[col] = props[col].astype(np.int8)\n",
    "                    elif mn > np.iinfo(np.int16).min and mx < np.iinfo(np.int16).max:\n",
    "                        props[col] = props[col].astype(np.int16)\n",
    "                    elif mn > np.iinfo(np.int32).min and mx < np.iinfo(np.int32).max:\n",
    "                        props[col] = props[col].astype(np.int32)\n",
    "                    elif mn > np.iinfo(np.int64).min and mx < np.iinfo(np.int64).max:\n",
    "                        props[col] = props[col].astype(np.int64)    \n",
    "            \n",
    "            # Make float datatypes 32 bit\n",
    "            else:\n",
    "                props[col] = props[col].astype(np.float32)\n",
    "            \n",
    "            # Print new column type\n",
    "            print(\"dtype after: \",props[col].dtype)\n",
    "            print(\"******************************\")\n",
    "    \n",
    "    # Print final result\n",
    "    print(\"___MEMORY USAGE AFTER COMPLETION:___\")\n",
    "    mem_usg = props.memory_usage().sum() / 1024**2 \n",
    "    print(\"Memory usage is: \",mem_usg,\" MB\")\n",
    "    print(\"This is \",100*mem_usg/start_mem_usg,\"% of the initial size\")\n",
    "    return props"
   ]
  },
  {
   "cell_type": "markdown",
   "metadata": {},
   "source": [
    "# Data Preparation "
   ]
  },
  {
   "cell_type": "markdown",
   "metadata": {},
   "source": [
    "## Data Preparation: Organisations"
   ]
  },
  {
   "cell_type": "code",
   "execution_count": 5,
   "metadata": {},
   "outputs": [],
   "source": [
    "# Drop elements not used\n",
    "organisations = organisations.drop([\"homepage_url\", \"category_list\"],axis=1)\n",
    "\n",
    "# Combining markets with rare observations but high fundings to High_funding_market\n",
    "organisations[\"market\"] = np.where(organisations[\"market\"].isin([\" B2B Express Delivery \", \" Cloud-Based Music \", \" Content Creators \", \" Custom Retail \", \" Development Platforms \", \" Film Production \", \" Food Processing \", \" Hospitals \", \" Natural Gas Uses \", \" Oil \", \" Oil and Gas \", \" Recreation \", \" Renewable Energies \", \" Trading \", \" Solar \", \" Renewable Energies \", \" TV Production \"]),\n",
    "        \"High_funding_market\",\n",
    "        organisations[\"market\"])\n",
    "\n",
    "# Replace markets with less than 100 observations by \" Other \"\n",
    "organisations[\"market\"] = np.where(organisations[\"market\"].isin(organisations[\"market\"].value_counts().loc[lambda x: x>=100].index), organisations[\"market\"], \" Other \")\n",
    "\n",
    "# Replace NaNs in state_code by Non_US\n",
    "organisations.loc[organisations[\"state_code\"].isna(),\"state_code\"] = \"Non_US\"\n",
    "\n",
    "# Change nan values to string \"No_status\"\n",
    "organisations[\"status\"] = np.where(organisations[\"status\"].isna(), \"No_status\", organisations[\"status\"])\n",
    "\n",
    "# Create new code column with USA state codes and country codes\n",
    "organisations[\"country_state_code\"] = np.where(organisations[\"country_code\"] == \"USA\", organisations[\"state_code\"], organisations[\"country_code\"])\n",
    "\n",
    "# Change variables to datatime\n",
    "for i in (\"founded_at\", \"first_funding_at\", \"last_funding_at\"):\n",
    "    organisations[i] = pd.to_datetime(organisations[i])\n",
    "\n",
    "# Create Time Delta between founding and first funding as well as first and last funding\n",
    "organisations[\"TDelta_1\"] = (organisations[\"first_funding_at\"] - organisations[\"founded_at\"]).dt.days.astype('int')\n",
    "organisations[\"TDelta_2\"] = (organisations[\"last_funding_at\"] - organisations[\"first_funding_at\"]).dt.days.astype('int')\n",
    "\n",
    "# Create Year and Month variables for founding, first funding and last funding\n",
    "for i in (\"founded_at\", \"first_funding_at\", \"last_funding_at\"):\n",
    "    organisations[f'{i}_year'] = pd.DatetimeIndex(organisations[i]).year\n",
    "    organisations[f'{i}_month'] = pd.DatetimeIndex(organisations[i]).month\n",
    "\n",
    "# Save the dataframe as csv\n",
    "#organisations.to_csv(\"organisations_cleaned.csv\")"
   ]
  },
  {
   "cell_type": "markdown",
   "metadata": {},
   "source": [
    "## Data Preparation: Rounds"
   ]
  },
  {
   "cell_type": "code",
   "execution_count": 6,
   "metadata": {},
   "outputs": [],
   "source": [
    "# Drop meaningless column\n",
    "rounds = rounds.drop(\"Unnamed: 16\", axis=1)\n",
    "\n",
    "# Replacing all funding_round_codes for non Ventures Capital with nan\n",
    "rounds.loc[(~rounds[\"funding_round_code\"].isna()) & (rounds[\"funding_round_type\"] != \"venture\"), \"funding_round_code\"] = float(\"nan\")\n",
    "\n",
    "# Grouping funding round codes E to H togehter due to limited observations (E+)\n",
    "rounds[\"funding_round_code\"] = np.where(rounds[\"funding_round_code\"].isin(['E', 'F', 'G', 'H']), \"E+\", rounds[\"funding_round_code\"])\n",
    "\n",
    "# Replacing post_ipo_debt with debt_financing and secondary_market with private_equity in column funding_round_type_code due to lessor observations\n",
    "rounds[\"funding_round_type_code\"] = np.where(~rounds[\"funding_round_code\"].isna(), rounds[\"funding_round_type\"]+\"_\"+rounds[\"funding_round_code\"], rounds[\"funding_round_type\"])\n",
    "rounds[\"funding_round_type_code\"] = np.where(rounds[\"funding_round_type_code\"] == \"post_ipo_debt\", \"debt_financing\", rounds[\"funding_round_type_code\"])\n",
    "rounds[\"funding_round_type_code\"] = np.where(rounds[\"funding_round_type_code\"] == \"secondary_market\", \"private_equity\", rounds[\"funding_round_type_code\"])\n",
    "\n",
    "# Changing funded_at to datetime and create the average delta in between fundings\n",
    "rounds[\"funded_at\"] = pd.to_datetime(rounds[\"funded_at\"], errors='coerce')\n",
    "rounds.loc[rounds[\"funded_at\"].isna(),\"funded_at\"] = pd.to_datetime(1, unit='D', origin=pd.Timestamp('1900-01-01'))\n",
    "rounds[\"Fund_avgDelta\"] = rounds.groupby(\"company_permalink\")[\"funded_at\"].transform(lambda x: ((x.max() - x.min()).days / x.count()))\n",
    "\n",
    "# Dropping the test case\n",
    "rounds = rounds[~rounds[\"company_name\"].isin([\"new test company\", \"test company\"])]"
   ]
  },
  {
   "cell_type": "code",
   "execution_count": 7,
   "metadata": {},
   "outputs": [],
   "source": [
    "# Creating columns with macro economic indicators\n",
    "for i in rounds.index:\n",
    "    try:\n",
    "        rounds.loc[i,\"funding_inflation\"] = anninflation.loc[anninflation[\"country_code\"] == rounds.loc[i,\"company_country_code\"], \n",
    "                                              str(rounds.loc[i,\"funded_year\"].item())[0:4]].item()\n",
    "        rounds.loc[i,\"funding_int\"] = realint.loc[realint[\"country_code\"] == rounds.loc[i,\"company_country_code\"], \n",
    "                                              str(rounds.loc[i,\"funded_year\"].item())[0:4]].item()\n",
    "        rounds.loc[i,\"gdpgrowth\"] = gdpgrowth.loc[gdpgrowth[\"country_code\"] == rounds.loc[i,\"company_country_code\"], \n",
    "                                              str(rounds.loc[i,\"funded_year\"].item())[0:4]].item()\n",
    "    except:\n",
    "        try:\n",
    "            rounds.loc[i,\"funding_inflation\"] = anninflation.loc[anninflation[\"country_code\"] == \"WLD\", \n",
    "                                                  str(rounds.loc[i,\"funded_year\"].item())[0:4]].item()\n",
    "            rounds.loc[i,\"funding_int\"] = realint.loc[realint[\"country_code\"] == \"WLD\", \n",
    "                                              str(rounds.loc[i,\"funded_year\"].item())[0:4]].item()\n",
    "            rounds.loc[i,\"gdpgrowth\"] = gdpgrowth.loc[gdpgrowth[\"country_code\"] == \"WLD\", \n",
    "                                              str(rounds.loc[i,\"funded_year\"].item())[0:4]].item()\n",
    "        except:\n",
    "            pass"
   ]
  },
  {
   "cell_type": "code",
   "execution_count": 8,
   "metadata": {},
   "outputs": [],
   "source": [
    "# Adding inconsistent macro economic indicators \n",
    "for i in rounds.loc[rounds[\"funding_inflation\"].isna()].index:\n",
    "    try:\n",
    "        rounds.loc[i,\"funding_inflation\"] = anninflation.loc[anninflation[\"country_code\"] == \"WLD\", \n",
    "                                                  str(rounds.loc[i,\"funded_year\"].item())[0:4]].item()\n",
    "    except:\n",
    "            pass\n",
    "\n",
    "for i in rounds.loc[rounds[\"funding_int\"].isna()].index:\n",
    "    try:\n",
    "        rounds.loc[i,\"funding_int\"] = realint.loc[realint[\"country_code\"] == \"WLD\", \n",
    "                                              str(rounds.loc[i,\"funded_year\"].item())[0:4]].item()\n",
    "    except:\n",
    "            pass\n",
    "\n",
    "for i in rounds.loc[rounds[\"gdpgrowth\"].isna()].index:\n",
    "    try:\n",
    "        rounds.loc[i,\"gdpgrowth\"] = gdpgrowth.loc[gdpgrowth[\"country_code\"] == \"WLD\", \n",
    "                                              str(rounds.loc[i,\"funded_year\"].item())[0:4]].item()\n",
    "    except:\n",
    "            pass"
   ]
  },
  {
   "cell_type": "code",
   "execution_count": 9,
   "metadata": {},
   "outputs": [],
   "source": [
    "# Drop companies with no observations in fund year, and cannot be matched with macro data\n",
    "rounds = rounds[~rounds[\"company_permalink\"].isin(rounds.loc[rounds[\"funded_year\"].isna(),\"company_permalink\"].unique())]\n",
    "\n",
    "# Drop companies with no inflation data due to a early founding\n",
    "rounds = rounds[~rounds[\"company_permalink\"].isin(rounds.loc[rounds[\"funding_inflation\"].isna(),\"company_permalink\"].unique())]\n",
    "\n",
    "# Calculate the mean of the macro data per company\n",
    "for i in [\"funding_inflation\",\"funding_int\",\"gdpgrowth\"]:\n",
    "    rounds[i] = rounds.groupby(\"company_permalink\")[i].transform(lambda x: np.mean(x))\n",
    "\n",
    "# Sort the investments by date\n",
    "rounds = rounds.sort_values(\"funded_month\")\n",
    "\n",
    "# Save the dataframe as a csv\n",
    "#rounds.to_csv(\"rounds_cleaned.csv\")\n",
    "\n",
    "# Drop all earlier observations per comapny\n",
    "rounds_short = rounds.drop_duplicates(subset=[\"company_permalink\"], keep=\"last\")"
   ]
  },
  {
   "cell_type": "markdown",
   "metadata": {},
   "source": [
    "## Data Preparation: Investments"
   ]
  },
  {
   "cell_type": "code",
   "execution_count": 10,
   "metadata": {},
   "outputs": [],
   "source": [
    "# Derive the Investor Type\n",
    "investments[\"Investor_type\"] = investments[\"investor_permalink\"].str.split(\"/\", expand = True)[1]\n",
    "investments[investments[\"Investor_type\"].isna()][\"company_permalink\"].str.split(\"/\", expand = True)[1].unique()\n",
    "investments[\"Investor_type\"] = np.where(investments[\"Investor_type\"].isna(), 'organization',investments[\"Investor_type\"])\n",
    "\n",
    "# Create variable describing the type of investors (person, organization or both)\n",
    "investments[\"Investor_type\"] = investments.groupby(\"company_permalink\")[\"Investor_type\"].transform(lambda x: \" \".join(x))\n",
    "investments[\"Investor_type\"] = list(map(sorted,list(map(list,map(set,investments[\"Investor_type\"].str.split(\" \"))))))\n",
    "investments[\"Investor_type\"] = [\"/\".join(x) for x in investments[\"Investor_type\"]]\n",
    "\n",
    "# Create a variable containing a list of the names of all investors per investment\n",
    "investments[\"investor_name\"] = np.where(investments[\"investor_name\"].isna(), \"Unknown\", investments[\"investor_name\"])\n",
    "investments[\"investor_list\"] = investments.groupby(\"company_permalink\")[\"investor_name\"].transform(lambda x: \"-\".join(x))\n",
    "investments[\"investor_list\"] = list(map(list,map(set,investments[\"investor_list\"].str.split(\"-\"))))\n",
    "\n",
    "# Adjust the investor market for having only markets with more than 1000 observations\n",
    "investments[\"investor_market\"] = np.where(investments[\"investor_market\"].isin(list(investments[\"investor_market\"].value_counts().loc[lambda x: x > 1000].index)),\n",
    "                                          investments[\"investor_market\"],\n",
    "                                          \"Other\")\n",
    "\n",
    "# Create a list the countries of all investors with more than 500 observations\n",
    "investments[\"investor_country_code\"] = np.where(investments[\"investor_country_code\"].isna(), \n",
    "                                                \"Unknown\", \n",
    "                                                investments[\"investor_country_code\"])\n",
    "investments[\"investor_country_code\"] = np.where(investments[\"investor_country_code\"].isin(list(investments[\"investor_country_code\"].value_counts().loc[lambda x: x < 500].index)), \n",
    "                                                \"Other\", \n",
    "                                                investments[\"investor_country_code\"])\n",
    "investments[\"investor_country_list\"] = investments.groupby(\"company_permalink\")[\"investor_country_code\"].transform(lambda x: \"-\".join(x))\n",
    "investments[\"investor_country_list\"] = list(map(list,map(set,investments[\"investor_country_list\"].str.split(\"-\"))))\n",
    "\n",
    "# Create a list of the countries/states of all investors with more than 500 observations\n",
    "investments[\"investor_state_code\"] = np.where(investments[\"investor_state_code\"].isna(), \"Unknown\", investments[\"investor_state_code\"])\n",
    "investments[\"investor_country_state_list\"] = investments[\"investor_country_code\"]\n",
    "investments[\"investor_country_state_list\"] = np.where((investments[\"investor_country_state_list\"] == \"USA\") & (investments[\"investor_state_code\"].isin(list(investments[\"investor_state_code\"].value_counts().loc[lambda x: x >= 500].index))), \n",
    "                                                      investments[\"investor_state_code\"],\n",
    "                                                      investments[\"investor_country_state_list\"])\n",
    "investments[\"investor_country_state_list\"] = investments.groupby(\"company_permalink\")[\"investor_country_state_list\"].transform(lambda x: \"-\".join(x))\n",
    "investments[\"investor_country_state_list\"] = list(map(list,map(set,investments[\"investor_country_state_list\"].str.split(\"-\"))))\n",
    "\n",
    "# Create a variable counting the number of investors per investment\n",
    "investments[\"investor_number\"] = investments.groupby(\"company_permalink\")[\"company_name\"].transform('count')\n",
    "\n",
    "# Identify the most succesful investors and create a dummy on company level\n",
    "investments[\"PE\"] = np.where(investments[\"investor_name\"].isin(PE[\"NameDataset\"]), 1,0)\n",
    "investments[\"PE\"] = investments.groupby(\"company_permalink\")[\"PE\"].transform(lambda x: max(x))\n",
    "\n",
    "# Dropping the test case\n",
    "investments = investments[investments[\"company_name\"] != \"test company\"]\n",
    "\n",
    "# Sort the investments by date\n",
    "investments = investments.sort_values(\"funded_month\")\n",
    "\n",
    "# Save the dataframe as csv\n",
    "#investments.to_csv(\"investments_cleaned.csv\")\n",
    "\n",
    "# Drop all earlier observations per comapny\n",
    "investments_short = investments.drop_duplicates(subset=[\"company_permalink\"], keep=\"last\")"
   ]
  },
  {
   "cell_type": "markdown",
   "metadata": {},
   "source": [
    "# Merge"
   ]
  },
  {
   "cell_type": "code",
   "execution_count": 11,
   "metadata": {},
   "outputs": [],
   "source": [
    "# Define the relevant columns used for the final dataframe\n",
    "List_variables_org = [\"permalink\",\"name\",\"market\",\"funding_total_usd\",\"status\",\"funding_rounds\",\"country_code\",\"state_code\",\"country_state_code\",\"TDelta_1\",\"TDelta_2\",\"founded_at_year\",\"founded_at_month\",\"first_funding_at_year\",\"first_funding_at_month\",\"last_funding_at_year\",\"last_funding_at_month\"]\n",
    "List_variables_rounds = [\"company_permalink\",\"funding_round_type_code\",\"Fund_avgDelta\",\"funding_inflation\",\"funding_int\",\"gdpgrowth\"]\n",
    "List_variables_inv = [\"company_permalink\",\"investor_market\",\"Investor_type\",\"investor_list\",\"investor_country_list\",\"investor_country_state_list\",\"investor_number\",\"PE\"]\n",
    "\n",
    "# Merge the organisation abd round dataframe \n",
    "Org_Rounnd = pd.merge(organisations.loc[:,List_variables_org],\n",
    "         rounds_short.loc[:,List_variables_rounds],\n",
    "         left_on = \"permalink\",\n",
    "         right_on = \"company_permalink\").drop([\"company_permalink\"], axis=1)\n",
    "\n",
    "# Save the new dataframe\n",
    "#Org_Rounnd.to_csv(\"Merge_Org_Round.csv\")"
   ]
  },
  {
   "cell_type": "markdown",
   "metadata": {},
   "source": [
    "## Merge: Organisation, Rounds and Investments"
   ]
  },
  {
   "cell_type": "code",
   "execution_count": 12,
   "metadata": {},
   "outputs": [],
   "source": [
    "# Second merge adding the investment dataframe\n",
    "All = pd.merge(Org_Rounnd,\n",
    "         investments_short.loc[:,List_variables_inv],\n",
    "         left_on = \"permalink\",\n",
    "         right_on = \"company_permalink\").drop([\"company_permalink\"], axis=1)\n",
    "\n",
    "# Save the new dataframe\n",
    "#All.to_csv(\"Merge_Org_Round_Inv.csv\")"
   ]
  },
  {
   "cell_type": "markdown",
   "metadata": {},
   "source": [
    "# Drop unused Data"
   ]
  },
  {
   "cell_type": "code",
   "execution_count": 13,
   "metadata": {},
   "outputs": [],
   "source": [
    "# Drop unused dataframes\n",
    "del Org_Rounnd, investments_short, investments, rounds_short, rounds, organisations, acquisition, PE, anninflation, realint, gdpgrowth"
   ]
  },
  {
   "cell_type": "markdown",
   "metadata": {},
   "source": [
    "# Import Data from external sources"
   ]
  },
  {
   "cell_type": "code",
   "execution_count": 14,
   "metadata": {},
   "outputs": [
    {
     "data": {
      "text/plain": [
       "'dirname = os.path.dirname(os.getcwd())\\nOrg_Rounnd = pd.read_csv(os.path.join(dirname, \"Merge_Org_Round.csv\"))\\nAll = pd.read_csv(os.path.join(dirname, \"Merge_Org_Round_Inv.csv\"))'"
      ]
     },
     "execution_count": 14,
     "metadata": {},
     "output_type": "execute_result"
    }
   ],
   "source": [
    "# Load cleaned data from the script of question 1 from the repository\n",
    "'''dirname = os.path.dirname(os.getcwd())\n",
    "Org_Rounnd = pd.read_csv(os.path.join(dirname, \"Merge_Org_Round.csv\"))\n",
    "All = pd.read_csv(os.path.join(dirname, \"Merge_Org_Round_Inv.csv\"))'''"
   ]
  },
  {
   "cell_type": "markdown",
   "metadata": {},
   "source": [
    "## Rename Data for Analysis "
   ]
  },
  {
   "cell_type": "code",
   "execution_count": 15,
   "metadata": {},
   "outputs": [
    {
     "data": {
      "text/html": [
       "<div>\n",
       "<style scoped>\n",
       "    .dataframe tbody tr th:only-of-type {\n",
       "        vertical-align: middle;\n",
       "    }\n",
       "\n",
       "    .dataframe tbody tr th {\n",
       "        vertical-align: top;\n",
       "    }\n",
       "\n",
       "    .dataframe thead th {\n",
       "        text-align: right;\n",
       "    }\n",
       "</style>\n",
       "<table border=\"1\" class=\"dataframe\">\n",
       "  <thead>\n",
       "    <tr style=\"text-align: right;\">\n",
       "      <th></th>\n",
       "      <th>market</th>\n",
       "      <th>funding_total_usd</th>\n",
       "      <th>status</th>\n",
       "      <th>funding_rounds</th>\n",
       "      <th>country_state_code</th>\n",
       "      <th>TDelta_1</th>\n",
       "      <th>TDelta_2</th>\n",
       "      <th>founded_at_year</th>\n",
       "      <th>founded_at_month</th>\n",
       "      <th>first_funding_at_year</th>\n",
       "      <th>...</th>\n",
       "      <th>last_funding_at_month</th>\n",
       "      <th>funding_round_type_code</th>\n",
       "      <th>Fund_avgDelta</th>\n",
       "      <th>funding_inflation</th>\n",
       "      <th>funding_int</th>\n",
       "      <th>gdpgrowth</th>\n",
       "      <th>investor_market</th>\n",
       "      <th>Investor_type</th>\n",
       "      <th>investor_number</th>\n",
       "      <th>PE</th>\n",
       "    </tr>\n",
       "  </thead>\n",
       "  <tbody>\n",
       "    <tr>\n",
       "      <th>0</th>\n",
       "      <td>News</td>\n",
       "      <td>1750000.0</td>\n",
       "      <td>acquired</td>\n",
       "      <td>1</td>\n",
       "      <td>NY</td>\n",
       "      <td>29</td>\n",
       "      <td>0</td>\n",
       "      <td>2012</td>\n",
       "      <td>6</td>\n",
       "      <td>2012</td>\n",
       "      <td>...</td>\n",
       "      <td>6</td>\n",
       "      <td>seed</td>\n",
       "      <td>0.0</td>\n",
       "      <td>2.069337</td>\n",
       "      <td>1.307083</td>\n",
       "      <td>2.249546</td>\n",
       "      <td>Finance</td>\n",
       "      <td>organization/person</td>\n",
       "      <td>6</td>\n",
       "      <td>0</td>\n",
       "    </tr>\n",
       "    <tr>\n",
       "      <th>1</th>\n",
       "      <td>Other</td>\n",
       "      <td>40000.0</td>\n",
       "      <td>operating</td>\n",
       "      <td>1</td>\n",
       "      <td>EST</td>\n",
       "      <td>-78</td>\n",
       "      <td>0</td>\n",
       "      <td>2012</td>\n",
       "      <td>10</td>\n",
       "      <td>2012</td>\n",
       "      <td>...</td>\n",
       "      <td>8</td>\n",
       "      <td>seed</td>\n",
       "      <td>0.0</td>\n",
       "      <td>3.933400</td>\n",
       "      <td>5.970000</td>\n",
       "      <td>3.228200</td>\n",
       "      <td>Other</td>\n",
       "      <td>organization</td>\n",
       "      <td>1</td>\n",
       "      <td>0</td>\n",
       "    </tr>\n",
       "    <tr>\n",
       "      <th>2</th>\n",
       "      <td>E-Commerce</td>\n",
       "      <td>40000.0</td>\n",
       "      <td>operating</td>\n",
       "      <td>1</td>\n",
       "      <td>CHL</td>\n",
       "      <td>414</td>\n",
       "      <td>0</td>\n",
       "      <td>2012</td>\n",
       "      <td>1</td>\n",
       "      <td>2013</td>\n",
       "      <td>...</td>\n",
       "      <td>2</td>\n",
       "      <td>seed</td>\n",
       "      <td>0.0</td>\n",
       "      <td>1.789556</td>\n",
       "      <td>7.144020</td>\n",
       "      <td>4.045004</td>\n",
       "      <td>Other</td>\n",
       "      <td>organization</td>\n",
       "      <td>1</td>\n",
       "      <td>0</td>\n",
       "    </tr>\n",
       "    <tr>\n",
       "      <th>3</th>\n",
       "      <td>Search</td>\n",
       "      <td>40000.0</td>\n",
       "      <td>operating</td>\n",
       "      <td>1</td>\n",
       "      <td>OR</td>\n",
       "      <td>1330</td>\n",
       "      <td>0</td>\n",
       "      <td>2008</td>\n",
       "      <td>1</td>\n",
       "      <td>2011</td>\n",
       "      <td>...</td>\n",
       "      <td>8</td>\n",
       "      <td>seed</td>\n",
       "      <td>0.0</td>\n",
       "      <td>3.156842</td>\n",
       "      <td>1.137338</td>\n",
       "      <td>1.550836</td>\n",
       "      <td>Other</td>\n",
       "      <td>organization</td>\n",
       "      <td>1</td>\n",
       "      <td>0</td>\n",
       "    </tr>\n",
       "    <tr>\n",
       "      <th>4</th>\n",
       "      <td>Curated Web</td>\n",
       "      <td>2535000.0</td>\n",
       "      <td>acquired</td>\n",
       "      <td>2</td>\n",
       "      <td>CA</td>\n",
       "      <td>-181</td>\n",
       "      <td>411</td>\n",
       "      <td>2010</td>\n",
       "      <td>7</td>\n",
       "      <td>2010</td>\n",
       "      <td>...</td>\n",
       "      <td>2</td>\n",
       "      <td>venture_A</td>\n",
       "      <td>205.5</td>\n",
       "      <td>2.398443</td>\n",
       "      <td>1.599038</td>\n",
       "      <td>2.057301</td>\n",
       "      <td>Other</td>\n",
       "      <td>organization/person</td>\n",
       "      <td>10</td>\n",
       "      <td>0</td>\n",
       "    </tr>\n",
       "  </tbody>\n",
       "</table>\n",
       "<p>5 rows × 22 columns</p>\n",
       "</div>"
      ],
      "text/plain": [
       "          market  funding_total_usd     status  funding_rounds  \\\n",
       "0          News           1750000.0   acquired               1   \n",
       "1         Other             40000.0  operating               1   \n",
       "2    E-Commerce             40000.0  operating               1   \n",
       "3        Search             40000.0  operating               1   \n",
       "4   Curated Web           2535000.0   acquired               2   \n",
       "\n",
       "  country_state_code  TDelta_1  TDelta_2  founded_at_year  founded_at_month  \\\n",
       "0                 NY        29         0             2012                 6   \n",
       "1                EST       -78         0             2012                10   \n",
       "2                CHL       414         0             2012                 1   \n",
       "3                 OR      1330         0             2008                 1   \n",
       "4                 CA      -181       411             2010                 7   \n",
       "\n",
       "   first_funding_at_year  ...  last_funding_at_month  funding_round_type_code  \\\n",
       "0                   2012  ...                      6                     seed   \n",
       "1                   2012  ...                      8                     seed   \n",
       "2                   2013  ...                      2                     seed   \n",
       "3                   2011  ...                      8                     seed   \n",
       "4                   2010  ...                      2                venture_A   \n",
       "\n",
       "   Fund_avgDelta funding_inflation  funding_int  gdpgrowth  investor_market  \\\n",
       "0            0.0          2.069337     1.307083   2.249546          Finance   \n",
       "1            0.0          3.933400     5.970000   3.228200            Other   \n",
       "2            0.0          1.789556     7.144020   4.045004            Other   \n",
       "3            0.0          3.156842     1.137338   1.550836            Other   \n",
       "4          205.5          2.398443     1.599038   2.057301            Other   \n",
       "\n",
       "         Investor_type investor_number PE  \n",
       "0  organization/person               6  0  \n",
       "1         organization               1  0  \n",
       "2         organization               1  0  \n",
       "3         organization               1  0  \n",
       "4  organization/person              10  0  \n",
       "\n",
       "[5 rows x 22 columns]"
      ]
     },
     "execution_count": 15,
     "metadata": {},
     "output_type": "execute_result"
    }
   ],
   "source": [
    "ignored_column_names = ['permalink', 'name', 'state_code', 'country_code', 'investor_country_list',\n",
    "                       'investor_country_state_list', 'investor_list'] \n",
    "data = All\n",
    "data = data[data.columns[~data.columns.isin(ignored_column_names)]]\n",
    "data.head(5)"
   ]
  },
  {
   "cell_type": "code",
   "execution_count": 16,
   "metadata": {},
   "outputs": [],
   "source": [
    "# Group countries that have less than 100 observations to \"Other\" Category\n",
    "data.loc[:, data.columns == \"country_state_code\"] = np.where(data[\"country_state_code\"].isin(data[\"country_state_code\"].value_counts().loc[lambda x: x>=100].index), data[\"country_state_code\"], \"Other\")\n",
    "\n",
    "# Group years that are before 2005 into one category to avoid recency skewness\n",
    "year_columns = ['founded_at_year', 'first_funding_at_year', 'last_funding_at_year']\n",
    "for i in year_columns:\n",
    "    data.loc[:, data.columns == i] = np.where(data[i] <= 2004, \"Pre_2005\", data[i])"
   ]
  },
  {
   "cell_type": "code",
   "execution_count": 17,
   "metadata": {},
   "outputs": [
    {
     "data": {
      "text/plain": [
       "market                      object\n",
       "funding_total_usd          float64\n",
       "status                      object\n",
       "funding_rounds               int64\n",
       "country_state_code          object\n",
       "TDelta_1                     int64\n",
       "TDelta_2                     int64\n",
       "founded_at_year             object\n",
       "founded_at_month             int64\n",
       "first_funding_at_year       object\n",
       "first_funding_at_month       int64\n",
       "last_funding_at_year        object\n",
       "last_funding_at_month        int64\n",
       "funding_round_type_code     object\n",
       "Fund_avgDelta              float64\n",
       "funding_inflation          float64\n",
       "funding_int                float64\n",
       "gdpgrowth                  float64\n",
       "investor_market             object\n",
       "Investor_type               object\n",
       "investor_number              int64\n",
       "PE                           int64\n",
       "dtype: object"
      ]
     },
     "execution_count": 17,
     "metadata": {},
     "output_type": "execute_result"
    }
   ],
   "source": [
    "data.dtypes"
   ]
  },
  {
   "cell_type": "code",
   "execution_count": 18,
   "metadata": {},
   "outputs": [
    {
     "name": "stdout",
     "output_type": "stream",
     "text": [
      "Memory usage of properties dataframe is : 3.3384323120117188  MB\n",
      "******************************\n",
      "Column:  funding_total_usd\n",
      "dtype before:  float64\n",
      "dtype after:  uint64\n",
      "******************************\n",
      "******************************\n",
      "Column:  funding_rounds\n",
      "dtype before:  int64\n",
      "dtype after:  uint8\n",
      "******************************\n",
      "******************************\n",
      "Column:  TDelta_1\n",
      "dtype before:  int64\n",
      "dtype after:  int16\n",
      "******************************\n",
      "******************************\n",
      "Column:  TDelta_2\n",
      "dtype before:  int64\n",
      "dtype after:  uint16\n",
      "******************************\n",
      "******************************\n",
      "Column:  founded_at_month\n",
      "dtype before:  int64\n",
      "dtype after:  uint8\n",
      "******************************\n",
      "******************************\n",
      "Column:  first_funding_at_month\n",
      "dtype before:  int64\n",
      "dtype after:  uint8\n",
      "******************************\n",
      "******************************\n",
      "Column:  last_funding_at_month\n",
      "dtype before:  int64\n",
      "dtype after:  uint8\n",
      "******************************\n",
      "******************************\n",
      "Column:  Fund_avgDelta\n",
      "dtype before:  float64\n",
      "dtype after:  float32\n",
      "******************************\n",
      "******************************\n",
      "Column:  funding_inflation\n",
      "dtype before:  float64\n",
      "dtype after:  float32\n",
      "******************************\n",
      "******************************\n",
      "Column:  funding_int\n",
      "dtype before:  float64\n",
      "dtype after:  float32\n",
      "******************************\n",
      "******************************\n",
      "Column:  gdpgrowth\n",
      "dtype before:  float64\n",
      "dtype after:  float32\n",
      "******************************\n",
      "******************************\n",
      "Column:  investor_number\n",
      "dtype before:  int64\n",
      "dtype after:  uint8\n",
      "******************************\n",
      "******************************\n",
      "Column:  PE\n",
      "dtype before:  int64\n",
      "dtype after:  uint8\n",
      "******************************\n",
      "___MEMORY USAGE AFTER COMPLETION:___\n",
      "Memory usage is:  2.0683765411376953  MB\n",
      "This is  61.95652173913044 % of the initial size\n"
     ]
    }
   ],
   "source": [
    "data = reduce_mem_usage(data)"
   ]
  },
  {
   "cell_type": "code",
   "execution_count": 19,
   "metadata": {},
   "outputs": [],
   "source": [
    "dummies = pd.DataFrame()\n",
    "for i in data.columns:\n",
    "    if pd.api.types.is_object_dtype(data[i]):\n",
    "        data[i] = data[i].astype(\"category\")\n",
    "        categories = pd.get_dummies(data[i], drop_first=True)\n",
    "        dummies = pd.concat([dummies, categories], axis=1)\n",
    "        data = pd.concat([data, categories], axis=1)"
   ]
  },
  {
   "cell_type": "markdown",
   "metadata": {},
   "source": [
    "## Train/Test Split\n",
    "\n"
   ]
  },
  {
   "cell_type": "markdown",
   "metadata": {},
   "source": [
    "The data is split into a train- and a testset with 70% of the observations in the trainset. For the split stratification according to the variable 'last_funding_at_year' is performed. This helps to have a more similar distribution of the observations in the train- and the testset. The assumption here is that companies having a funding round in the same year were subject to similar underlying economic conditions. "
   ]
  },
  {
   "cell_type": "code",
   "execution_count": 20,
   "metadata": {},
   "outputs": [],
   "source": [
    "df = data\n",
    "X_train, X_test, y_train, y_test = train_test_split(df.loc[:, df.columns != 'funding_total_usd'], \n",
    "                                                    df.loc[:, df.columns == 'funding_total_usd'],\n",
    "                                                    train_size=0.7,\n",
    "                                                    random_state=1,\n",
    "                                                    stratify=df[['last_funding_at_year']])\n",
    "\n",
    "# drop categorical variables - all have been encoded in dummies before\n",
    "X_train = X_train.select_dtypes(include=np.number)\n",
    "X_test = X_test.select_dtypes(include=np.number)\n"
   ]
  },
  {
   "cell_type": "markdown",
   "metadata": {},
   "source": [
    "# Modelling"
   ]
  },
  {
   "cell_type": "markdown",
   "metadata": {},
   "source": [
    "## Packages"
   ]
  },
  {
   "cell_type": "code",
   "execution_count": 11,
   "metadata": {},
   "outputs": [],
   "source": [
    "from sklearn.preprocessing import PolynomialFeatures\n",
    "from sklearn.linear_model import Lasso\n",
    "from sklearn.pipeline import make_pipeline\n",
    "from sklearn.preprocessing import StandardScaler\n",
    "from sklearn.svm import SVR\n",
    "from sklearn.neural_network import MLPRegressor\n",
    "from sklearn.ensemble import GradientBoostingRegressor\n",
    "from sklearn.ensemble import RandomForestRegressor\n",
    "from sklearn.model_selection import GridSearchCV\n",
    "from sklearn import metrics"
   ]
  },
  {
   "cell_type": "markdown",
   "metadata": {},
   "source": [
    "## Lasso Polynomial Regression"
   ]
  },
  {
   "cell_type": "markdown",
   "metadata": {},
   "source": [
    "### Grid Search\n",
    "The grid search was performed iteratively and the parameters in the cell below only represent the very last interation. This process was chosen as to keep the processing time feasible and not produce errors by performing grid searches with too many models. \n",
    "In the first step, we chose a very large range and steps of parameters  to narrow down the optimal range of each of the parameters based on the result of the 5-fold CV. In the next steps we kept reducing the range with decreasing steps to narrow down the optimal parameters. "
   ]
  },
  {
   "cell_type": "code",
   "execution_count": 42,
   "metadata": {},
   "outputs": [],
   "source": [
    "# Define parameters for Grid Search\n",
    "# The grid search was performed over multiple iterations and the parameters here only represent the last iteration\n",
    "Lasso_params = {'lasso__alpha': range(750000,1000000,500)}"
   ]
  },
  {
   "cell_type": "code",
   "execution_count": 43,
   "metadata": {},
   "outputs": [
    {
     "name": "stdout",
     "output_type": "stream",
     "text": [
      "Fitting 5 folds for each of 500 candidates, totalling 2500 fits\n",
      "{'lasso__alpha': 838500}\n"
     ]
    }
   ],
   "source": [
    "# Performing Grid Search\n",
    "modelLasso = (GridSearchCV(make_pipeline(StandardScaler(), PolynomialFeatures(1), Lasso()), \n",
    "                         param_grid=Lasso_params, verbose=1, n_jobs=-1)).fit(X_train, y_train.values.ravel())\n",
    "Lasso_best_params = modelLasso.best_params_\n",
    "print(Lasso_best_params)"
   ]
  },
  {
   "cell_type": "code",
   "execution_count": 197,
   "metadata": {},
   "outputs": [
    {
     "name": "stdout",
     "output_type": "stream",
     "text": [
      "Test Set:\n",
      "R2   : 30.64%\n",
      "RMSE : 46,804,446\n"
     ]
    }
   ],
   "source": [
    "# Model score in the Test Set\n",
    "print(f\"Test Set\")\n",
    "print(f\"R2   : {modelLasso.score(X_test, y_test):.2%}\")\n",
    "print(f\"RMSE : {round(metrics.mean_squared_error(y_test, modelLasso.predict(X_test), squared=False)):,}\")"
   ]
  },
  {
   "cell_type": "code",
   "execution_count": 198,
   "metadata": {},
   "outputs": [
    {
     "name": "stdout",
     "output_type": "stream",
     "text": [
      "Train Set\n",
      "R2   : 20.46%\n",
      "RMSE : 78,050,916\n"
     ]
    }
   ],
   "source": [
    "# Model score in the Train Set\n",
    "print(f\"Train Set\")\n",
    "print(f\"R2   : {modelLasso.score(X_train, y_train):.2%}\")\n",
    "print(f\"RMSE : {round(metrics.mean_squared_error(y_train, modelLasso.predict(X_train), squared=False)):,}\")"
   ]
  },
  {
   "cell_type": "markdown",
   "metadata": {},
   "source": [
    "### Comments\n",
    "We see that the R2 for the train set is ~10 percentage points lower than that of the test set and the RMSE of the train set is ~1.67x higher than that of the test set. This means that average deviation between the predicted total funding amount made by the model and the actual value is lower in the train set, however the proportion of the variation explained by the model is also lower in the train set."
   ]
  },
  {
   "cell_type": "code",
   "execution_count": 199,
   "metadata": {},
   "outputs": [],
   "source": [
    "# Save Model as Pickle\n",
    "'''\n",
    "filename = 'Lasso_final_model.sav'\n",
    "if not os.path.exists(os.path.join(dirname, filename)):\n",
    "    pickle.dump(modelLasso, open(filename, 'wb'))\n",
    "'''"
   ]
  },
  {
   "cell_type": "markdown",
   "metadata": {},
   "source": [
    "## Gradient Boosting"
   ]
  },
  {
   "cell_type": "markdown",
   "metadata": {},
   "source": [
    "### Grid Search\n",
    "The grid search was performed iteratively and the parameters in the cell below only represent the very last interation. This process was chosen as to keep the processing time feasible and not produce errors by performing grid searches with too many models. In the first step, we chose a very large range and steps of parameters to narrow down the optimal range of each of the parameters based on the result of the 5-fold CV. In the next steps we kept reducing the range with decreasing steps to narrow down the optimal parameters."
   ]
  },
  {
   "cell_type": "code",
   "execution_count": 148,
   "metadata": {},
   "outputs": [],
   "source": [
    "# Define parameters for Grid Search\n",
    "# The grid search was performed over multiple iterations and the parameters here only represent the last iteration\n",
    "Boosting_params = {'gradientboostingregressor__learning_rate': [0.0001, 0.001, 0.002, 0.003],\n",
    "                   'gradientboostingregressor__n_estimators' : [1000, 1100, 1200],\n",
    "                   'gradientboostingregressor__max_depth'    : [2, 3, 4]}"
   ]
  },
  {
   "cell_type": "code",
   "execution_count": 49,
   "metadata": {},
   "outputs": [
    {
     "name": "stdout",
     "output_type": "stream",
     "text": [
      "Fitting 5 folds for each of 54 candidates, totalling 270 fits\n",
      "{'gradientboostingregressor__learning_rate': 0.002, 'gradientboostingregressor__max_depth': 3, 'gradientboostingregressor__n_estimators': 1100}\n"
     ]
    }
   ],
   "source": [
    "# Performing Grid Search\n",
    "modelBoosting = (GridSearchCV(make_pipeline(GradientBoostingRegressor()), \n",
    "                              param_grid=Boosting_params, verbose=3, n_jobs=-1)).fit(X_train, y_train.values.ravel())\n",
    "Boosting_best_params = modelBoosting.best_params_\n",
    "print(Boosting_best_params)"
   ]
  },
  {
   "cell_type": "code",
   "execution_count": 200,
   "metadata": {},
   "outputs": [
    {
     "name": "stdout",
     "output_type": "stream",
     "text": [
      "Test Set\n",
      "R2   : 34.60%\n",
      "RMSE : 45,451,228\n"
     ]
    }
   ],
   "source": [
    "# Model score in the Test Set\n",
    "print(f\"Test Set\")\n",
    "print(f\"R2   : {modelBoosting.score(X_test, y_test):.2%}\")\n",
    "print(f\"RMSE : {round(metrics.mean_squared_error(y_test, modelBoosting.predict(X_test), squared=False)):,}\")"
   ]
  },
  {
   "cell_type": "code",
   "execution_count": 201,
   "metadata": {},
   "outputs": [
    {
     "name": "stdout",
     "output_type": "stream",
     "text": [
      "Train Set\n",
      "R2   : 58.43%\n",
      "RMSE : 56,427,457\n"
     ]
    }
   ],
   "source": [
    "# Model score in the Train Set\n",
    "print(f\"Train Set\")\n",
    "print(f\"R2   : {modelBoosting.score(X_train, y_train):.2%}\")\n",
    "print(f\"RMSE : {round(metrics.mean_squared_error(y_train, modelBoosting.predict(X_train), squared=False)):,}\")"
   ]
  },
  {
   "cell_type": "markdown",
   "metadata": {},
   "source": [
    "### Comments\n",
    "We see that the R2 for the train set is ~24 percentage points higher than that of the test set and the RMSE of the train set is ~1.24x higher than that of the test set. This means that average deviation between the predicted total funding amount made by the model and the actual value is lower in the test set, however the proportion of the variation explained by the model is also lower in the test set."
   ]
  },
  {
   "cell_type": "code",
   "execution_count": 202,
   "metadata": {},
   "outputs": [],
   "source": [
    "# Save Model as Pickle\n",
    "'''\n",
    "filename = 'Boosting_final_model.sav'\n",
    "if not os.path.exists(os.path.join(dirname, filename)):\n",
    "    pickle.dump(modelBoosting, open(filename, 'wb'))\n",
    "'''"
   ]
  },
  {
   "cell_type": "markdown",
   "metadata": {},
   "source": [
    "## Support Vector Machine"
   ]
  },
  {
   "cell_type": "markdown",
   "metadata": {},
   "source": [
    "### Grid Search\n",
    "The grid search was performed iteratively and the parameters in the cell below only represent the very last interation. This process was chosen as to keep the processing time feasible and not produce errors by performing grid searches with too many models. In the first step, we chose a very large range and steps of parameters to narrow down the optimal range of each of the parameters based on the result of the 5-fold CV. In the next steps we kept reducing the range with decreasing steps to narrow down the optimal parameters."
   ]
  },
  {
   "cell_type": "code",
   "execution_count": 169,
   "metadata": {},
   "outputs": [],
   "source": [
    "# Define parameters for Grid Search\n",
    "# The grid search was performed over multiple iterations and the parameters here only represent the last iteration\n",
    "SVR_params = {'svr__C':[400000000, 450000000, 500000000],'svr__gamma': [3e-3, 4e-3, 5e-3]}"
   ]
  },
  {
   "cell_type": "code",
   "execution_count": 170,
   "metadata": {},
   "outputs": [
    {
     "name": "stdout",
     "output_type": "stream",
     "text": [
      "Fitting 5 folds for each of 9 candidates, totalling 45 fits\n",
      "{'svr__C': 500000000, 'svr__gamma': 0.003}\n"
     ]
    }
   ],
   "source": [
    "# Performing Grid Search\n",
    "modelSVR = (GridSearchCV(make_pipeline(StandardScaler(), SVR()), \n",
    "                         param_grid=SVR_params, verbose=1, n_jobs=-1)).fit(X_train, y_train.values.ravel())\n",
    "SVR_best_params = modelSVR.best_params_\n",
    "print(SVR_best_params)"
   ]
  },
  {
   "cell_type": "code",
   "execution_count": 203,
   "metadata": {},
   "outputs": [
    {
     "name": "stdout",
     "output_type": "stream",
     "text": [
      "Test Set\n",
      "R2   : 29.90%\n",
      "RMSE : 47,053,501\n"
     ]
    }
   ],
   "source": [
    "# Model score in the Test Set\n",
    "print(f\"Test Set\")\n",
    "print(f\"R2   : {modelSVR.score(X_test, y_test):.2%}\")\n",
    "print(f\"RMSE : {round(metrics.mean_squared_error(y_test, modelSVR.predict(X_test), squared=False)):,}\")"
   ]
  },
  {
   "cell_type": "code",
   "execution_count": 204,
   "metadata": {},
   "outputs": [
    {
     "name": "stdout",
     "output_type": "stream",
     "text": [
      "Train Set\n",
      "R2   : 28.09%\n",
      "RMSE : 74,212,911\n"
     ]
    }
   ],
   "source": [
    "# Model score in the Train Set\n",
    "print(f\"Train Set\")\n",
    "print(f\"R2   : {modelSVR.score(X_train, y_train):.2%}\")\n",
    "print(f\"RMSE : {round(metrics.mean_squared_error(y_train, modelSVR.predict(X_train), squared=False)):,}\")"
   ]
  },
  {
   "cell_type": "markdown",
   "metadata": {},
   "source": [
    "### Comments\n",
    "We see that the R2 for the train set is only ~1 percentage points lower than that of the test set and the RMSE of the train set is ~1.58x higher than that of the test set. This means that average deviation between the predicted total funding amount made by the model and the actual value is lower in the test set, as well as the proportion of the variation explained by the model being higher in the test set."
   ]
  },
  {
   "cell_type": "code",
   "execution_count": 205,
   "metadata": {},
   "outputs": [],
   "source": [
    "# Save Model as Pickle\n",
    "'''\n",
    "filename = 'SVR_final_model.sav'\n",
    "if not os.path.exists(os.path.join(dirname, filename)):\n",
    "    pickle.dump(modelSVR, open(filename, 'wb'))\n",
    "'''"
   ]
  },
  {
   "cell_type": "markdown",
   "metadata": {},
   "source": [
    "## Random Forest"
   ]
  },
  {
   "cell_type": "markdown",
   "metadata": {},
   "source": [
    "### Grid Search\n",
    "The grid search was performed iteratively and the parameters in the cell below only represent the very last interation. This process was chosen as to keep the processing time feasible and not produce errors by performing grid searches with too many models. In the first step, we chose a very large range and steps of parameters to narrow down the optimal range of each of the parameters based on the result of the 5-fold CV. In the next steps we kept reducing the range with decreasing steps to narrow down the optimal parameters."
   ]
  },
  {
   "cell_type": "code",
   "execution_count": 145,
   "metadata": {},
   "outputs": [],
   "source": [
    "# Define parameters for Grid Search\n",
    "# The grid search was performed over multiple iterations and the parameters here only represent the last iteration\n",
    "RF_params = {'randomforestregressor__n_estimators': [880, 900, 920],\n",
    "             'randomforestregressor__max_features': [22, 23, 24, 25]}"
   ]
  },
  {
   "cell_type": "code",
   "execution_count": 146,
   "metadata": {},
   "outputs": [
    {
     "name": "stdout",
     "output_type": "stream",
     "text": [
      "Fitting 5 folds for each of 12 candidates, totalling 60 fits\n",
      "{'randomforestregressor__max_features': 24, 'randomforestregressor__n_estimators': 900}\n"
     ]
    }
   ],
   "source": [
    "# Performing Grid Search\n",
    "modelRF = (GridSearchCV(make_pipeline(RandomForestRegressor()), \n",
    "                         param_grid=RF_params, verbose=1, n_jobs=-1)).fit(X_train, y_train.values.ravel())\n",
    "RF_best_params = modelRF.best_params_\n",
    "print(RF_best_params)"
   ]
  },
  {
   "cell_type": "code",
   "execution_count": 206,
   "metadata": {},
   "outputs": [
    {
     "name": "stdout",
     "output_type": "stream",
     "text": [
      "Test Set\n",
      "R2   : 36.16%\n",
      "RMSE : 44,905,110\n"
     ]
    }
   ],
   "source": [
    "# Model score in the Test Set\n",
    "print(f\"Test Set\")\n",
    "print(f\"R2   : {modelRF.score(X_test, y_test):.2%}\")\n",
    "print(f\"RMSE : {round(metrics.mean_squared_error(y_test, modelRF.predict(X_test), squared=False)):,}\")"
   ]
  },
  {
   "cell_type": "code",
   "execution_count": 207,
   "metadata": {},
   "outputs": [
    {
     "name": "stdout",
     "output_type": "stream",
     "text": [
      "Train Set\n",
      "R2   : 89.19%\n",
      "RMSE : 28,770,305\n"
     ]
    }
   ],
   "source": [
    "# Model score in the Train Set\n",
    "print(f\"Train Set\")\n",
    "print(f\"R2   : {modelRF.score(X_train, y_train):.2%}\")\n",
    "print(f\"RMSE : {round(metrics.mean_squared_error(y_train, modelRF.predict(X_train), squared=False)):,}\")"
   ]
  },
  {
   "cell_type": "markdown",
   "metadata": {},
   "source": [
    "### Comments\n",
    "We see that the R2 for the train set is a large ~53 percentage points higher than that of the test set and the RMSE of the train set is ~0.64x as much as that of the test set. This means that average deviation between the predicted total funding amount made by the model and the actual value is higher in the test set, as well as the proportion of the variation explained by the model being lower in the test set."
   ]
  },
  {
   "cell_type": "code",
   "execution_count": 208,
   "metadata": {},
   "outputs": [],
   "source": [
    "# Save Model as Pickle\n",
    "'''\n",
    "filename = 'RF_final_model.sav'\n",
    "if not os.path.exists(os.path.join(dirname, filename)):\n",
    "    pickle.dump(modelRF, open(filename, 'wb'))\n",
    "'''"
   ]
  },
  {
   "cell_type": "markdown",
   "metadata": {},
   "source": [
    "Since this is the best of our models based upon both the highest R2 and the lowest RMSE, we want to see the most influential variables within it.\n",
    "Variable Importance Score of the 20 most important features:"
   ]
  },
  {
   "cell_type": "code",
   "execution_count": 265,
   "metadata": {},
   "outputs": [
    {
     "data": {
      "text/plain": [
       "Text(0.5, 0, 'Random Forest Feature Importance')"
      ]
     },
     "execution_count": 265,
     "metadata": {},
     "output_type": "execute_result"
    },
    {
     "data": {
      "image/png": "[encoded data removed]",
      "text/plain": [
       "<Figure size 432x288 with 1 Axes>"
      ]
     },
     "metadata": {
      "needs_background": "light"
     },
     "output_type": "display_data"
    }
   ],
   "source": [
    "sorted_idx = modelRF.best_estimator_.named_steps[\"randomforestregressor\"].feature_importances_.argsort()\n",
    "sorted_idx = sorted_idx[len(sorted_idx)-20:len(sorted_idx)]\n",
    "plt.barh(X_train.columns[sorted_idx], modelRF.best_estimator_.named_steps[\"randomforestregressor\"].feature_importances_[sorted_idx])\n",
    "plt.xlabel(\"Random Forest Feature Importance\")"
   ]
  },
  {
   "cell_type": "markdown",
   "metadata": {},
   "source": [
    "### Comments \n",
    "We see that several of the top variables in influencing the target variable of total funds were previously mentioned. - it is important to note that, unlike regression coefficients, a high variable importance score does not mean that a variable positively influences the target variabale. It could also be a strong factor in negatively influencing it.\n",
    "\n",
    "First, the number of investors a sartup has, plays a larger role than any other variable in predicting total funding. This is likely a positive relationship since logically, more investors means more contributions, ceteris paribus. \n",
    "\n",
    "Second, funding rounds are important for a similar logical reason as the number of investors. It is interesing to see that the number of investors and funding rounds and more important than being in the high_funding_market classification, which we predicted would be a large influence on total funding.\n",
    "\n",
    "Third, private_equity, a category of funding round type code, would indicate that having this type of investor\n",
    "influences the amount of total funding a startup recieves, whether that be higher or lower than other categories.\n",
    "\n",
    "Fourth, one of the macroeconomic variables we added appears, gdpgrowth. This would indicate that the overall monetary growth of the country in which the startup is in affects the total amount of funding they recieve. the two other macroeconomic variables, inflation and interest rate, do not affect the model as much as expected.\n",
    "\n",
    "Fifth, TDelta_2, which represents the time between the first and last funding round appears to have a relatively strong influence on the total funding as well as the TDelta_1 variable, which represents the time between the founding date of the startup and the first funding round. The logic behind this is that we think the time it takes between founding and funding round dates could be indicative of the success of the startup and thus, how much funding they would recieve overall."
   ]
  },
  {
   "cell_type": "markdown",
   "metadata": {},
   "source": [
    "## Neural Network"
   ]
  },
  {
   "cell_type": "markdown",
   "metadata": {},
   "source": [
    "### Grid Search\n",
    "The grid search was performed iteratively and the parameters in the cell below only represent the very last interation. This process was chosen as to keep the processing time feasible and not produce errors by performing grid searches with too many models. In the first step, we chose a very large range and steps of parameters to narrow down the optimal range of each of the parameters based on the result of the 5-fold CV. In the next steps we kept reducing the range with decreasing steps to narrow down the optimal parameters."
   ]
  },
  {
   "cell_type": "code",
   "execution_count": 130,
   "metadata": {},
   "outputs": [],
   "source": [
    "# Define parameters for Grid Search\n",
    "# The grid search was performed over multiple iterations and the parameters here only represent the last iteration\n",
    "NN_params = {'mlpregressor__hidden_layer_sizes': [(128), (128,128,128,128), (16,16,16,16,16,16,16,16,16,16,16)],\n",
    "             'mlpregressor__activation': [\"relu\"],\n",
    "             'mlpregressor__early_stopping':[True],\n",
    "             'mlpregressor__validation_fraction':[0.2, 0.1],\n",
    "             'mlpregressor__n_iter_no_change': [10]\n",
    "            }"
   ]
  },
  {
   "cell_type": "code",
   "execution_count": 131,
   "metadata": {},
   "outputs": [
    {
     "name": "stdout",
     "output_type": "stream",
     "text": [
      "Fitting 5 folds for each of 6 candidates, totalling 30 fits\n",
      "{'mlpregressor__activation': 'relu', 'mlpregressor__early_stopping': True, 'mlpregressor__hidden_layer_sizes': (16, 16, 16, 16, 16, 16, 16, 16, 16, 16, 16), 'mlpregressor__n_iter_no_change': 10, 'mlpregressor__validation_fraction': 0.1}\n"
     ]
    }
   ],
   "source": [
    "# Performing Grid Search\n",
    "modelNN = (GridSearchCV(make_pipeline(StandardScaler(), MLPRegressor()), \n",
    "                         param_grid=NN_params, verbose=3, n_jobs=-1)).fit(X_train.values, y_train.values.ravel())\n",
    "NN_best_params = modelNN.best_params_\n",
    "print(NN_best_params)"
   ]
  },
  {
   "cell_type": "code",
   "execution_count": 211,
   "metadata": {},
   "outputs": [
    {
     "name": "stdout",
     "output_type": "stream",
     "text": [
      "Test Set\n",
      "R2   : 32.62%\n",
      "RMSE : 46,133,614\n"
     ]
    }
   ],
   "source": [
    "# Model score in the Test Set\n",
    "print(f\"Test Set\")\n",
    "print(f\"R2   : {modelNN.score(X_test.values, y_test):.2%}\")\n",
    "print(f\"RMSE : {round(metrics.mean_squared_error(y_test, modelNN.predict(X_test.values), squared=False)):,}\")"
   ]
  },
  {
   "cell_type": "code",
   "execution_count": 212,
   "metadata": {},
   "outputs": [
    {
     "name": "stdout",
     "output_type": "stream",
     "text": [
      "Train Set\n",
      "R2   : 29.41%\n",
      "RMSE : 73,526,546\n"
     ]
    }
   ],
   "source": [
    "# Model score in the Train Set\n",
    "print(f\"Train Set\")\n",
    "print(f\"R2   : {modelNN.score(X_train.values, y_train):.2%}\")\n",
    "print(f\"RMSE : {round(metrics.mean_squared_error(y_train, modelNN.predict(X_train.values), squared=False)):,}\")"
   ]
  },
  {
   "cell_type": "markdown",
   "metadata": {},
   "source": [
    "### Comments\n",
    "We see that the R2 for the train set is ~3.2 percentage points lower than that of the test set and the RMSE of the train set is ~1.59x higher than that of the test set. This means that average deviation between the predicted total funding amount made by the model and the actual value is higher in the train set, as well as the proportion of the variation explained by the model being lower in the train set."
   ]
  },
  {
   "cell_type": "code",
   "execution_count": 213,
   "metadata": {},
   "outputs": [],
   "source": [
    "# Save Model as Pickle\n",
    "'''\n",
    "filename = 'NN_final_model.sav'\n",
    "if not os.path.exists(os.path.join(dirname, filename)):\n",
    "    pickle.dump(modelNN, open(filename, 'wb'))\n",
    "'''"
   ]
  },
  {
   "cell_type": "code",
   "execution_count": null,
   "metadata": {},
   "outputs": [],
   "source": []
  }
 ],
 "metadata": {
  "kernelspec": {
   "display_name": "Python 3 (ipykernel)",
   "language": "python",
   "name": "python3"
  },
  "language_info": {
   "codemirror_mode": {
    "name": "ipython",
    "version": 3
   },
   "file_extension": ".py",
   "mimetype": "text/x-python",
   "name": "python",
   "nbconvert_exporter": "python",
   "pygments_lexer": "ipython3",
   "version": "3.8.12"
  }
 },
 "nbformat": 4,
 "nbformat_minor": 1
}